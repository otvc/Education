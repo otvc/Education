{
 "cells": [
  {
   "cell_type": "markdown",
   "metadata": {
    "id": "nVf3Z2hlya3E"
   },
   "source": [
    "# PGM - 2. Markov chains and hidden markov chains"
   ]
  },
  {
   "cell_type": "markdown",
   "metadata": {
    "id": "qSjY_lnf5Ro2"
   },
   "source": [
    "## 1. Генерация текста при помощи марковских цепей"
   ]
  },
  {
   "cell_type": "markdown",
   "metadata": {
    "id": "Fjex9tsZGgV8"
   },
   "source": [
    "В коде реализован алгоритм генерации текста на основе марковских цепей.\n",
    "- Реализуйте марковскую цепь более высокого порядка, которая выводит следующее слово не на основании одного предыдующего слова, а на основании n последних.\n",
    "- Реализуйте алгоритм генерации текста на основе марковской цепи произвольного порядка (можно использовать цепи более низкого порядка для первых слов в предложении и если данный набор из n слов не встречался в обучающей выборке)\n",
    "- Поэкспериментируйте с генераторами текста. С какого размера входного текста цепь первого порядка генерирует более-менее осмысленные предложения? А цепь второго порядка?"
   ]
  },
  {
   "cell_type": "code",
   "execution_count": 1074,
   "metadata": {
    "id": "1o5YGwMM4vHq"
   },
   "outputs": [],
   "source": [
    "import random\n",
    "\n",
    "class Dictogram(dict):\n",
    "    def __init__(self, iterable=None):\n",
    "        # Инициализируем наше распределение как новый объект класса, \n",
    "        # добавляем имеющиеся элементы\n",
    "        super(Dictogram, self).__init__()\n",
    "        self.num_unique_words = 0  # число уникальных ключей в распределении\n",
    "        self.num_words = 0  # общее количество всех слов в распределении\n",
    "        if iterable:\n",
    "            self.update(iterable)\n",
    "\n",
    "    def update(self, iterable):\n",
    "        for item in iterable:\n",
    "            if item in self:\n",
    "                self[item] += 1\n",
    "                self.num_words += 1\n",
    "            else:\n",
    "                self[item] = 1\n",
    "                self.num_unique_words += 1\n",
    "                self.num_words += 1\n",
    "\n",
    "    def count(self, item):\n",
    "        if item in self:\n",
    "            return self[item]\n",
    "        return 0\n",
    "\n",
    "    def return_random_word(self):\n",
    "        random_key = random.sample(self, 1)\n",
    "        return random_key[0]\n",
    "\n",
    "    def return_weighted_random_word(self):\n",
    "        random_int = random.randint(0, self.num_words-1)\n",
    "        index = 0\n",
    "        list_of_keys = list(self.keys())\n",
    "        for i in range(0, self.num_unique_words):\n",
    "            index += self[list_of_keys[i]]\n",
    "            if(index > random_int):\n",
    "                return list_of_keys[i]"
   ]
  },
  {
   "cell_type": "code",
   "execution_count": 1071,
   "metadata": {
    "id": "lqYg-xPb45wB"
   },
   "outputs": [],
   "source": [
    "def fit_markov_model(data):\n",
    "    markov_model = dict()\n",
    "\n",
    "    for i in range(0, len(data)-1):\n",
    "        if data[i] in markov_model:\n",
    "            markov_model[(data[i])].update([data[i+1]])\n",
    "        else:\n",
    "            markov_model[(data[i])] = Dictogram([data[i+1]])\n",
    "    return markov_model"
   ]
  },
  {
   "cell_type": "code",
   "execution_count": 1072,
   "metadata": {
    "id": "e-IrUP1f4-yz"
   },
   "outputs": [],
   "source": [
    "def fit_higher_order_markov_model(order, data):\n",
    "    markov_model = dict()\n",
    "\n",
    "    # your code goes here\n",
    "    for cur_order in range(1, order + 1):\n",
    "        for i in range(cur_order, len(data) - 1):\n",
    "            prev_elements = tuple([data[i-cur_order+k] for k in range(0, cur_order)])\n",
    "            if prev_elements in markov_model:\n",
    "                markov_model[prev_elements].update([data[i+1]])\n",
    "            else:\n",
    "                markov_model[prev_elements] = Dictogram([data[i+1]])\n",
    "    \n",
    "    return markov_model"
   ]
  },
  {
   "cell_type": "code",
   "execution_count": 1073,
   "metadata": {
    "id": "-BjE3vuZFsZF"
   },
   "outputs": [],
   "source": [
    "def generate_random_sentence(length, markov_model):\n",
    "\n",
    "    # your code goes here\n",
    "    q = markov_model.keys()\n",
    "    order = max(list(map(len,(q))))\n",
    "    mm_first_order = list(filter(lambda x: len(x) == 1, q))\n",
    "    first_word = random.sample(mm_first_order, 1)[0]\n",
    "    \n",
    "    sentence = [first_word[0], markov_model[first_word].return_weighted_random_word()]\n",
    "    cur_order = 2\n",
    "    while len(sentence) < order:\n",
    "        key = tuple(sentence[len(sentence) - cur_order:])\n",
    "        if key in markov_model:\n",
    "            new_word = markov_model[key].return_weighted_random_word()\n",
    "            sentence.append(new_word)\n",
    "            cur_order += 1\n",
    "        else:\n",
    "            cur_order -= 1\n",
    "     \n",
    "    #don't forget about len(seqeunce) - length == 0\n",
    "    while len(sentence) < length:\n",
    "        for cur_order in range(order, 1, -1):\n",
    "            key = tuple(sentence[len(sentence) - cur_order + 1:])\n",
    "            if key in markov_model:\n",
    "                new_word = markov_model[key].return_weighted_random_word()\n",
    "                sentence.append(new_word)\n",
    "                break\n",
    "\n",
    "    return ' '.join(sentence)"
   ]
  },
  {
   "cell_type": "code",
   "execution_count": 1070,
   "metadata": {},
   "outputs": [
    {
     "data": {
      "text/plain": [
       "[1, 3]"
      ]
     },
     "execution_count": 1070,
     "metadata": {},
     "output_type": "execute_result"
    }
   ],
   "source": [
    "list(filter(lambda x: x % 2,[1,2,3]))"
   ]
  },
  {
   "cell_type": "code",
   "execution_count": 5,
   "metadata": {
    "colab": {
     "base_uri": "https://localhost:8080/"
    },
    "id": "4z_vJcVv_1Ct",
    "outputId": "1a621340-b559-4e4d-b772-c6aed8afa906"
   },
   "outputs": [
    {
     "data": {
      "text/plain": [
       "54842"
      ]
     },
     "execution_count": 5,
     "metadata": {},
     "output_type": "execute_result"
    }
   ],
   "source": [
    "import re\n",
    "# рандомная книга. Можно взять объединение нескольких книг\n",
    "with open(\"Шмелев Иван Сергеевич. Солнце мертвых.txt\", \"r\") as f:\n",
    "  data = f.read()\n",
    "# преобразуем текст в list из слов\n",
    "data = re.sub(r'[^\\w]', ' ', data).lower().split()\n",
    "len(data)"
   ]
  },
  {
   "cell_type": "code",
   "execution_count": 6,
   "metadata": {
    "colab": {
     "base_uri": "https://localhost:8080/"
    },
    "id": "ykeUbdIiAj4N",
    "outputId": "5c70c4b8-4048-41e3-a327-e1488492c2a7"
   },
   "outputs": [
    {
     "name": "stdout",
     "output_type": "stream",
     "text": [
      "погибший еще утро сон видел наталью на а нес руках браслетики штанах после болезни признаем ей горошин ночь надо бояться за у то менингита папа\n"
     ]
    }
   ],
   "source": [
    "mc = fit_higher_order_markov_model(3, data)\n",
    "for i in range(25, 26):\n",
    "  print(generate_random_sentence(i, mc))"
   ]
  },
  {
   "cell_type": "markdown",
   "metadata": {},
   "source": [
    "## 2. Подгоняем под предельное распределение"
   ]
  },
  {
   "cell_type": "markdown",
   "metadata": {
    "id": "SDzLxezsKayy"
   },
   "source": [
    "Пусть у нашей марковской цепи $n$ состояний, которые образуют цикл длины $n$. Пусть также вероятности перехода заданы так: из $k$ состояния мы с веротяностью $p_k$ можем перейти в следующее состояние ($k+1 \\mod n$), а с вероятностью $1-p_k$ остаться в том же состоянии $k$. Покажите, что у этой цепи есть предельное состояние при любом начальном распределении. Для любого ли набора \n",
    "\n",
    "$$\\sum\\limits_{k=1}^n \\pi_k = 1$$\n",
    "\n",
    "можно подобрать такие вероятности перехода $p_k$, что предельное состояние марковской цепи станет равным $\\pi_k$?"
   ]
  },
  {
   "cell_type": "code",
   "execution_count": 1075,
   "metadata": {
    "colab": {
     "base_uri": "https://localhost:8080/"
    },
    "id": "QdoGFE0QJ2xz",
    "outputId": "4c2bc848-d2fe-4230-d853-bf3e3da96974"
   },
   "outputs": [
    {
     "data": {
      "text/plain": [
       "array([0.03306042, 0.28772507, 0.23559878, 0.17450196, 0.26911377])"
      ]
     },
     "execution_count": 1075,
     "metadata": {},
     "output_type": "execute_result"
    }
   ],
   "source": [
    "import numpy as np\n",
    "pi = np.random.rand(5)\n",
    "pi = pi / pi.sum()\n",
    "pi"
   ]
  },
  {
   "cell_type": "code",
   "execution_count": 1076,
   "metadata": {
    "colab": {
     "base_uri": "https://localhost:8080/"
    },
    "id": "tSNDGw3pCDjd",
    "outputId": "e7ee2354-9916-465a-ee2d-166bbd8703c8"
   },
   "outputs": [
    {
     "data": {
      "text/plain": [
       "array([[0.3620549 , 0.6379451 , 0.        , 0.        , 0.        ],\n",
       "       [0.        , 0.92669831, 0.07330169, 0.        , 0.        ],\n",
       "       [0.        , 0.        , 0.91048029, 0.08951971, 0.        ],\n",
       "       [0.        , 0.        , 0.        , 0.87913756, 0.12086244],\n",
       "       [0.07837107, 0.        , 0.        , 0.        , 0.92162893]])"
      ]
     },
     "execution_count": 1076,
     "metadata": {},
     "output_type": "execute_result"
    }
   ],
   "source": [
    "# вставьте свой ответ вместо следующей строки\n",
    "pk = 1/pi#np.array([0.4,0.4,0.4,0.4,0.4])\n",
    "pk = pk / pk.sum()\n",
    "\n",
    "P = np.diag(1-pk) + np.diag(pk[:-1], 1)\n",
    "P[-1,0] = pk[-1]\n",
    "P"
   ]
  },
  {
   "cell_type": "code",
   "execution_count": 1077,
   "metadata": {
    "colab": {
     "base_uri": "https://localhost:8080/"
    },
    "id": "Otknto21_py9",
    "outputId": "846b76f0-a709-4864-8bd4-2e1585816a31"
   },
   "outputs": [
    {
     "data": {
      "text/plain": [
       "array([[0.03306042, 0.28772507, 0.23559878, 0.17450196, 0.26911377],\n",
       "       [0.03306042, 0.28772507, 0.23559878, 0.17450196, 0.26911377],\n",
       "       [0.03306042, 0.28772507, 0.23559878, 0.17450196, 0.26911377],\n",
       "       [0.03306042, 0.28772507, 0.23559878, 0.17450196, 0.26911377],\n",
       "       [0.03306042, 0.28772507, 0.23559878, 0.17450196, 0.26911377]])"
      ]
     },
     "execution_count": 1077,
     "metadata": {},
     "output_type": "execute_result"
    }
   ],
   "source": [
    "# на тестовом примере получается равномерное распределение\n",
    "np.linalg.matrix_power(P, 1000)"
   ]
  },
  {
   "cell_type": "markdown",
   "metadata": {
    "id": "m_tRjggrZ80s"
   },
   "source": [
    "## 3. Алгоритмы на бандитах"
   ]
  },
  {
   "cell_type": "markdown",
   "metadata": {
    "id": "XDaSrvqiaDZ3"
   },
   "source": [
    "Пусть у нас есть $N$ действий, которые приводят к случайной награде, распределенной как $\\mathcal{N}(m_i, \\sigma_i^2)$. Реализуйте алгоритмы, указанные ниже, и отрисуйте  их накопленную награду и regret"
   ]
  },
  {
   "cell_type": "code",
   "execution_count": 23,
   "metadata": {
    "id": "Q-Dkz9fmcQGU"
   },
   "outputs": [],
   "source": [
    "import numpy as np\n",
    "from matplotlib import pyplot as plt"
   ]
  },
  {
   "cell_type": "code",
   "execution_count": 24,
   "metadata": {
    "id": "Yn0hTLZpaChQ"
   },
   "outputs": [],
   "source": [
    "class Bandit:\n",
    "  def __call__(self) -> float:\n",
    "    pass \n",
    "\n",
    "class GaussBandit(Bandit):\n",
    "  def __init__(self, mu: float, sigma: float):\n",
    "    self.mu = mu\n",
    "    self.sigma = sigma\n",
    "\n",
    "  def __call__(self) -> float:\n",
    "    reward = np.random.normal(self.mu, self.sigma)\n",
    "    return reward"
   ]
  },
  {
   "cell_type": "code",
   "execution_count": 25,
   "metadata": {
    "id": "SOgWhHadchag"
   },
   "outputs": [],
   "source": [
    "class Algorithm:\n",
    "  def __init__(self, N: int):\n",
    "    \"\"\"\n",
    "    N - number of bandits\n",
    "    \"\"\"\n",
    "    self.N = N\n",
    "    pass\n",
    "\n",
    "  def choose(self) -> int:\n",
    "    \"\"\"\n",
    "    Choosing bandit from 0 to N-1\n",
    "    \"\"\"\n",
    "    pass\n",
    "\n",
    "  def update(self, n: int, reward: float):\n",
    "    \"\"\"\n",
    "    Getting feedback.\n",
    "    n: number of bandit from 0 to N-1\n",
    "    reward: obtained value of reward\n",
    "    \"\"\"\n",
    "    pass"
   ]
  },
  {
   "cell_type": "code",
   "execution_count": 26,
   "metadata": {
    "id": "ecwL0ig0gDGh"
   },
   "outputs": [],
   "source": [
    "class Monkey(Algorithm):\n",
    "  def choose(self):\n",
    "    return np.random.randint(self.N)"
   ]
  },
  {
   "cell_type": "code",
   "execution_count": 168,
   "metadata": {
    "id": "2-m7TtfRdqfn"
   },
   "outputs": [],
   "source": [
    "class EpsilonGreedy(Algorithm):\n",
    "    def __init__(self, N:int, eps:float = 0.05):\n",
    "        super().__init__(N)\n",
    "        self.eps = eps\n",
    "        self.T_storage = []\n",
    "        self.Q_storage = np.zeros((N, 2)) # storage of avarage result on two last steps\n",
    "        self.init_bandit = 0\n",
    "    \n",
    "    def init_storages(self):\n",
    "        self.T_storage.append(1.0)\n",
    "        result = self.init_bandit\n",
    "        self.init_bandit += 1\n",
    "        return result\n",
    "        \n",
    "    \n",
    "    def choose(self) -> int:\n",
    "        choose = np.random.binomial(1, self.eps)\n",
    "        if choose:\n",
    "            self.cur_bandit = np.random.randint(self.N)\n",
    "            result = self.cur_bandit\n",
    "        else:\n",
    "            if self.init_bandit < len(self.Q_storage):\n",
    "                self.cur_bandit = self.init_bandit\n",
    "                result = self.init_storages()\n",
    "            else:\n",
    "                self.cur_bandit = np.argmax(self.Q_storage[:, -1], axis = 0)\n",
    "                self.T_storage[self.cur_bandit] += 1\n",
    "                result = self.cur_bandit\n",
    "                \n",
    "        return result\n",
    "    \n",
    "    def update(self, n: int, reward: float):\n",
    "        if self.init_bandit < len(self.Q_storage):\n",
    "            self.Q_storage[n][1] = reward\n",
    "        else:\n",
    "            self.Q_storage[n][0] = self.Q_storage[n][1]\n",
    "            self.Q_storage[n][1] = reward / self.T_storage[n] + (self.T_storage[n] - 1)*self.Q_storage[n][0]\n",
    "            \n",
    "        "
   ]
  },
  {
   "cell_type": "code",
   "execution_count": 1058,
   "metadata": {
    "id": "5wF4Uud7dy6j"
   },
   "outputs": [],
   "source": [
    "class UCB(Algorithm):\n",
    "  # your code here\n",
    "    def __init__(self, N:int, delta:list = None):\n",
    "        super().__init__(N)\n",
    "        self.delta = [0.001]*N if delta is None else delta\n",
    "        self.T_storage = np.zeros((N))\n",
    "        self.Q_storage = np.zeros((N, 2)) # storage of avarage result on two last steps\n",
    "        self.f_opt = np.zeros((N))\n",
    "        self.init_bandit = 0\n",
    "    \n",
    "    def init_storages(self):\n",
    "        result = self.init_bandit\n",
    "        self.T_storage[self.init_bandit] += 1\n",
    "        self.init_bandit += 1\n",
    "        return result\n",
    "        \n",
    "    \n",
    "    def choose(self) -> int:\n",
    "        if self.init_bandit < len(self.Q_storage):\n",
    "            self.cur_bandit = self.init_bandit\n",
    "            result = self.init_storages()\n",
    "        else:\n",
    "            self.cur_bandit = np.argmax(self.f_opt)\n",
    "            self.T_storage[self.cur_bandit] += 1\n",
    "            result = self.cur_bandit\n",
    "                \n",
    "        return result\n",
    "    \n",
    "    def update(self, n: int, reward: float):\n",
    "        if self.init_bandit < len(self.Q_storage):\n",
    "            self.Q_storage[n][1] = reward\n",
    "        else:\n",
    "            self.Q_storage[n][0] = self.Q_storage[n][1]\n",
    "            self.Q_storage[n][1] = reward / self.T_storage[n] + (self.T_storage[n] - 1)*self.Q_storage[n][0]\n",
    "        coef = self.delta[n]\n",
    "        self.f_opt[n] = self.Q_storage[n][1] + np.sqrt(2*np.log(1 / coef)/self.T_storage[n])"
   ]
  },
  {
   "cell_type": "code",
   "execution_count": 1059,
   "metadata": {
    "id": "_-FpqZ1Zd2Ci"
   },
   "outputs": [],
   "source": [
    "class Tompson(Algorithm):\n",
    "  # your code here\n",
    "  def __init__(self, N: int):\n",
    "    self.N = N\n",
    "    self.mu = np.zeros((N,))\n",
    "    self.var = np.ones((N,))\n",
    "    self.ap_mu = 0\n",
    "    self.ap_var = 1\n",
    "    self.rewards = np.array([])\n",
    "\n",
    "  def choose(self) -> int:\n",
    "    param = np.random.normal(self.mu, np.sqrt(self.var))\n",
    "    result = np.argmax(param)\n",
    "    return np.round(result)\n",
    "\n",
    "  def update(self, n: int, reward: float):\n",
    "    self.rewards = np.append(self.rewards, reward)\n",
    "    if self.rewards.shape[0] > 1:\n",
    "        self.ap_mu = self.rewards.mean()\n",
    "        self.ap_var = self.rewards.var()\n",
    "        n = self.rewards.shape[0]\n",
    "        new_var = 1/ (1 / self.ap_var + n / self.var)\n",
    "        n=-1\n",
    "        self.mu[n] = (self.ap_mu / self.ap_var + self.rewards.sum() / self.var[n]) * new_var[n]\n",
    "        self.var[n] = new_var[n]"
   ]
  },
  {
   "cell_type": "code",
   "execution_count": 1060,
   "metadata": {
    "id": "jjUwelOOd6gC"
   },
   "outputs": [],
   "source": [
    "def run_experiment(\n",
    "    bandits: list,\n",
    "    algorithm: Algorithm,\n",
    "    steps: int = 1000\n",
    "):\n",
    "  \"\"\"\n",
    "  bandits: list[Bandit]\n",
    "  \"\"\" \n",
    "  reward_history = []\n",
    "\n",
    "  for n_step in range(steps):\n",
    "    action = algorithm.choose()\n",
    "    choosed_bandit = bandits[action]\n",
    "    reward = choosed_bandit()\n",
    "    algorithm.update(action, reward)\n",
    "\n",
    "    reward_history.append(reward)\n",
    "\n",
    "  reward_history = np.cumsum(reward_history)\n",
    "  \n",
    "  return reward_history"
   ]
  },
  {
   "cell_type": "code",
   "execution_count": 1063,
   "metadata": {
    "colab": {
     "base_uri": "https://localhost:8080/",
     "height": 478
    },
    "id": "OlkB-1sVhHO0",
    "outputId": "fc471099-2827-4b91-fd72-f96b6138049b",
    "scrolled": true
   },
   "outputs": [
    {
     "name": "stderr",
     "output_type": "stream",
     "text": [
      "C:\\Temp/ipykernel_7520/1088348624.py:22: RuntimeWarning: overflow encountered in true_divide\n",
      "  new_var = 1/ (1 / self.ap_var + n / self.var)\n",
      "C:\\Temp/ipykernel_7520/1088348624.py:24: RuntimeWarning: overflow encountered in double_scalars\n",
      "  self.mu[n] = (self.ap_mu / self.ap_var + self.rewards.sum() / self.var[n]) * new_var[n]\n",
      "C:\\Temp/ipykernel_7520/1088348624.py:24: RuntimeWarning: invalid value encountered in double_scalars\n",
      "  self.mu[n] = (self.ap_mu / self.ap_var + self.rewards.sum() / self.var[n]) * new_var[n]\n",
      "C:\\Temp/ipykernel_7520/1088348624.py:22: RuntimeWarning: divide by zero encountered in true_divide\n",
      "  new_var = 1/ (1 / self.ap_var + n / self.var)\n",
      "C:\\Temp/ipykernel_7520/1088348624.py:24: RuntimeWarning: divide by zero encountered in double_scalars\n",
      "  self.mu[n] = (self.ap_mu / self.ap_var + self.rewards.sum() / self.var[n]) * new_var[n]\n",
      "No handles with labels found to put in legend.\n"
     ]
    },
    {
     "data": {
      "text/plain": [
       "<matplotlib.legend.Legend at 0x215be0e7a30>"
      ]
     },
     "execution_count": 1063,
     "metadata": {},
     "output_type": "execute_result"
    },
    {
     "data": {
      "image/png": "[encoded data removed]",
      "text/plain": [
       "<Figure size 1080x504 with 2 Axes>"
      ]
     },
     "metadata": {
      "needs_background": "light"
     },
     "output_type": "display_data"
    }
   ],
   "source": [
    "bandits = [\n",
    "    GaussBandit(i, 1) for i in range(10)\n",
    "]\n",
    "algorithm = Tompson(10)\n",
    "#algorithm = UCB(10)\n",
    "#algorithm = EpsilonGreedy(10)\n",
    "steps = 10000\n",
    "\n",
    "reward_history = run_experiment(bandits, algorithm, steps)\n",
    "regret = 10 * np.arange(1, steps + 1) - reward_history\n",
    "\n",
    "fig, axes = plt.subplots(1, 2, figsize=(15, 7))\n",
    "\n",
    "ax = axes[0]\n",
    "ax.set_title(\"Cumulative reward\")\n",
    "ax.plot(np.arange(steps), 10 * np.arange(steps), \"--r\", label=\"ideal\")\n",
    "ax.plot(reward_history, label=\"Monkey\")\n",
    "plt.legend()\n",
    "\n",
    "ax = axes[1]\n",
    "ax.set_title(\"Regret\")\n",
    "ax.plot(np.arange(steps), np.zeros(steps), \"--r\", label=\"ideal\")\n",
    "ax.plot(regret, label=\"Monkey\")\n",
    "plt.legend()"
   ]
  },
  {
   "cell_type": "code",
   "execution_count": 1064,
   "metadata": {},
   "outputs": [
    {
     "data": {
      "text/plain": [
       "89889.88435443578"
      ]
     },
     "execution_count": 1064,
     "metadata": {},
     "output_type": "execute_result"
    }
   ],
   "source": [
    "reward_history[-1]"
   ]
  },
  {
   "cell_type": "markdown",
   "metadata": {
    "id": "90KQkYz6kX5b"
   },
   "source": [
    "## 4. Бизнес"
   ]
  },
  {
   "cell_type": "markdown",
   "metadata": {
    "id": "zTlcyFzDkabC"
   },
   "source": [
    "Представьте, что вы продаете какой-то товар на онлайн площадке, и хотите оптимизировать цену для максимизации получаемой прибыли. Вы можете выставить любую цену на свой товар, и наблюдать, сколько он получает просмотров и покупок. \n",
    "\n",
    "Поскольку число просмотров вы контроллировать не можете, то логично взять отношение покупок к просмотрам $\\alpha$ (будем называть эту величину конверсией), и умножить ее на получаемую прибыть с одной покупки, которая равна $p - p_0$, где $p$ - цена за товар, а $p_0$ - его себестоимость.\n",
    "\n",
    "Таким образом, вы хотите решить оптимизационную задачу\n",
    "\n",
    "$$\\alpha(p) \\cdot (p - p_0) \\to \\max\\limits_p$$\n",
    "\n",
    "где функцию $\\alpha$ (вообще говоря, случайную) вы не знаете, но можете оценить, выставляя разную цену. Для удобства давайте считать, что вы выставляете цену $p_t$ раз в день, и вечером получаете реацию $\\alpha_t = \\alpha(p_t)$ и награду $\\alpha_t (p_t - p_0)$.\n",
    "\n",
    "Допустим, вы решили моделировать спрос при помощи экспоненциального распределения, то есть предполагаете, что при цене $p$ покупатель, зашедший к вам на страницу купит товар с вероятностью $\\exp(- \\lambda p)$, где $\\lambda$ - некоторая константа, не зависящая ни от цены, ни от номера дня $t$. \n",
    "\n",
    "\n",
    "В такой постановке задачи можно в качестве возможных **действий** использовать не множество цен, а множество возможных $\\lambda$. То есть вы выбираете одну из моделей спроса, действуете исходя из нее и получаете в конце дня некую прибыль. Тогда выбор модели - это action, а прибыль - reward. \n",
    "\n",
    "- Реализуйте предложенный алгоритм\n",
    "- Найдите теоретически оптимальную цену и отрисуйте график регрета получившегося алгоритма. Растет ли он быстрее/медленнее линейной функции?\n",
    "- Оцените время сходимости в зависимости от количества покупок в день\n",
    "- прочитайте эту любопытную статью про динамическое ценообразование: https://blog.griddynamics.com/dynamic-pricing-algorithms/"
   ]
  },
  {
   "cell_type": "code",
   "execution_count": 1078,
   "metadata": {
    "id": "WMDhZCLtF4C_"
   },
   "outputs": [],
   "source": [
    "import numpy as np\n",
    "from matplotlib import pyplot as plt"
   ]
  },
  {
   "cell_type": "code",
   "execution_count": 1079,
   "metadata": {
    "id": "fY0mSQQiiM64"
   },
   "outputs": [],
   "source": [
    "real_lambda = 1 / 42\n",
    "\n",
    "def get_real_conversion(price, n_people):\n",
    "  prob_of_buying = np.exp(-price * real_lambda)\n",
    "  n_buys = np.random.binomial(n_people, prob_of_buying)\n",
    "  return n_buys * 1.0 / n_people"
   ]
  },
  {
   "cell_type": "code",
   "execution_count": 1080,
   "metadata": {
    "id": "_014OTUs4k8w"
   },
   "outputs": [],
   "source": [
    "possible_lambdas = 1.0 / np.arange(1, 101)\n",
    "apriory_probs = np.ones_like(possible_lambdas)\n",
    "apriory_probs = apriory_probs / apriory_probs.sum()"
   ]
  },
  {
   "cell_type": "code",
   "execution_count": 1081,
   "metadata": {},
   "outputs": [
    {
     "data": {
      "text/plain": [
       "array([1.73199881e+01, 6.52269169e-04, 2.02419887e+00])"
      ]
     },
     "execution_count": 1081,
     "metadata": {},
     "output_type": "execute_result"
    }
   ],
   "source": [
    "np.random.gamma(np.array([2.5, 0.2, 0.3]),10)"
   ]
  },
  {
   "cell_type": "code",
   "execution_count": 1082,
   "metadata": {
    "id": "CwHo-vz-40U6"
   },
   "outputs": [],
   "source": [
    "class ThompsonDemand:\n",
    "  def __init__(self, possible_lambdas, apriory_probs, n_people):\n",
    "    self.lambdas = possible_lambdas\n",
    "    self.probs = apriory_probs\n",
    "    self.n_people = n_people\n",
    "    self.history  = []\n",
    "  \n",
    "  def update(self, price: float, conversion: float):\n",
    "    # your code here\n",
    "    self.probs[self.cur_lambda] += conversion*self.n_people\n",
    "    self.n_people +=1\n",
    "\n",
    "  def suggest_price(self):\n",
    "    # your code here\n",
    "    #Скорее всего, тут предполагалось другое априорное распределение, но сел поздно и времении не было, чтобы написать (:\n",
    "    param = np.random.gamma(self.probs, self.n_people)\n",
    "    self.cur_lambda = np.argmax(param)\n",
    "    self.sug_price = np.random.exponential(1/self.lambdas[self.cur_lambda])\n",
    "    self.history.append(self.cur_lambda)\n",
    "    return self.sug_price"
   ]
  },
  {
   "cell_type": "code",
   "execution_count": 1096,
   "metadata": {
    "id": "rOoR1WLJ5wbO"
   },
   "outputs": [],
   "source": [
    "def run_business(\n",
    "    days: int = 1000,\n",
    "    n_people: int = 10, # how many people views your product per day\n",
    "):\n",
    "  \"\"\"\n",
    "  bandits: list[Bandit]\n",
    "  \"\"\" \n",
    "  ai_manager = ThompsonDemand(possible_lambdas, apriory_probs, n_people)\n",
    "\n",
    "  reward_history = []\n",
    "\n",
    "  for n_day in range(days):\n",
    "    price = ai_manager.suggest_price()\n",
    "    conversion = get_real_conversion(price, n_people)\n",
    "\n",
    "    ai_manager.update(price, conversion)\n",
    "\n",
    "    reward = price * conversion\n",
    "    reward_history.append(reward)\n",
    "    \n",
    "  reward_history = np.cumsum(reward_history)\n",
    "  return reward_history"
   ]
  },
  {
   "cell_type": "code",
   "execution_count": 1098,
   "metadata": {
    "id": "PYbFSVrw6516"
   },
   "outputs": [
    {
     "data": {
      "text/plain": [
       "array([   16.31070821,    28.07877199,    40.61702214,    48.86717102,\n",
       "          48.86717102,    66.80112161,    70.95318053,    74.90139946,\n",
       "          91.3854707 ,   102.7540634 ,   118.88223625,   131.99021813,\n",
       "         148.59582417,   169.77627853,   179.28257546,   189.0419985 ,\n",
       "         195.19907109,   203.12696897,   207.6662244 ,   224.46628175,\n",
       "         224.46628175,   236.17337149,   246.20364219,   263.68566232,\n",
       "         265.35265232,   267.01122359,   270.50450925,   282.64007457,\n",
       "         282.64007457,   289.09846802,   305.56463775,   311.24156897,\n",
       "         325.63288111,   339.67677616,   339.67677616,   348.22008079,\n",
       "         365.41493496,   375.07963553,   384.04266813,   384.04266813,\n",
       "         392.45090863,   410.43423034,   417.24377839,   422.90274453,\n",
       "         422.90274453,   422.90274453,   455.3490379 ,   470.19877061,\n",
       "         473.45943445,   474.72660182,   476.55467122,   485.04318739,\n",
       "         494.78106914,   503.45109798,   516.06468678,   520.55100513,\n",
       "         531.73168867,   539.20683781,   547.38910677,   552.8849694 ,\n",
       "         574.98762139,   585.38124909,   592.56010361,   619.24999906,\n",
       "         641.93706534,   656.27275742,   662.01069941,   673.19260641,\n",
       "         701.10914116,   711.05481301,   714.32035621,   714.32035621,\n",
       "         718.17897732,   718.17897732,   734.86785976,   759.76258044,\n",
       "         762.83121057,   767.51713831,   773.32340422,   778.15918375,\n",
       "         790.85384705,   800.44955496,   807.84722259,   832.99577393,\n",
       "         849.63028338,   857.24387553,   871.52546396,   888.47743207,\n",
       "         903.23410462,   914.71637412,   923.7617666 ,   943.57410693,\n",
       "         947.38069517,   962.66702416,   962.66702416,   982.4675505 ,\n",
       "         990.54400693,   997.19505531,  1015.51067477,  1034.55161438,\n",
       "        1045.49619749,  1046.18527789,  1085.72466949,  1109.90019295,\n",
       "        1128.62053066,  1133.08863768,  1133.08863768,  1138.78636029,\n",
       "        1165.55643907,  1183.34462673,  1208.18523342,  1208.18523342,\n",
       "        1220.96825257,  1233.77221181,  1246.53333448,  1262.90049171,\n",
       "        1280.9016804 ,  1292.11859651,  1315.12558544,  1322.18334547,\n",
       "        1335.87855932,  1344.9966221 ,  1360.61734492,  1368.16766329,\n",
       "        1383.61091308,  1402.5605182 ,  1415.93866299,  1424.46268665,\n",
       "        1438.58012499,  1445.27705819,  1480.20593982,  1487.74180846,\n",
       "        1502.26465076,  1502.26465076,  1517.11682429,  1532.72474179,\n",
       "        1532.72474179,  1542.6969753 ,  1552.73645589,  1557.17673519,\n",
       "        1557.17673519,  1572.17319539,  1593.5179648 ,  1598.22356218,\n",
       "        1598.22356218,  1602.24569492,  1602.24569492,  1614.49091904,\n",
       "        1614.49091904,  1636.25059095,  1636.25059095,  1652.32967275,\n",
       "        1675.12457627,  1679.60397973,  1692.97322106,  1693.60370769,\n",
       "        1699.17017624,  1699.17017624,  1702.55867838,  1716.39128215,\n",
       "        1716.39128215,  1728.05898067,  1728.05898067,  1749.78663494,\n",
       "        1749.78663494,  1750.33289666,  1759.16278454,  1773.1395493 ,\n",
       "        1785.51438738,  1794.26616277,  1806.27635219,  1814.27410144,\n",
       "        1824.81497079,  1824.81497079,  1838.24918232,  1841.3368638 ,\n",
       "        1841.3368638 ,  1852.52676161,  1852.96467721,  1860.80758664,\n",
       "        1885.56003845,  1887.75285042,  1900.91927599,  1907.05447916,\n",
       "        1913.07892793,  1913.07892793,  1918.0098954 ,  1928.69108991,\n",
       "        1928.69108991,  1928.69108991,  1945.83480549,  1956.56456933,\n",
       "        1958.73972354,  1982.66682999,  1986.01035765,  1990.09300554,\n",
       "        2011.71882569,  2011.71882569,  2028.88837888,  2044.71599834,\n",
       "        2066.2929419 ,  2099.4361627 ,  2118.45682024,  2136.33481959,\n",
       "        2147.06752255,  2159.5660844 ,  2171.14984072,  2181.51366436,\n",
       "        2206.49374235,  2224.9824809 ,  2246.96165446,  2249.83460794,\n",
       "        2249.83460794,  2267.63590985,  2268.97391522,  2282.78250647,\n",
       "        2282.78250647,  2298.17435302,  2306.10382563,  2324.17537189,\n",
       "        2324.17537189,  2327.5384509 ,  2338.8693982 ,  2344.74345617,\n",
       "        2350.80414544,  2363.40172321,  2375.85032543,  2375.85032543,\n",
       "        2413.39189488,  2413.39189488,  2415.41172195,  2425.62375713,\n",
       "        2426.69368861,  2436.15832504,  2451.67643212,  2451.67643212,\n",
       "        2459.64520153,  2483.15260853,  2498.55295647,  2508.28934677,\n",
       "        2517.77591344,  2529.26897351,  2539.0116513 ,  2539.0116513 ,\n",
       "        2554.86537148,  2577.31424978,  2587.73337448,  2600.19372364,\n",
       "        2611.74387724,  2623.15228856,  2638.35932425,  2638.35932425,\n",
       "        2653.56743524,  2661.19268985,  2685.12699714,  2696.6089136 ,\n",
       "        2708.87002135,  2716.37981655,  2727.04674346,  2742.55343174,\n",
       "        2753.47404711,  2772.56737619,  2785.20352173,  2815.16494262,\n",
       "        2817.42335577,  2823.75959687,  2831.43699125,  2834.58362673,\n",
       "        2846.42277408,  2861.01486354,  2861.01486354,  2862.90569756,\n",
       "        2876.40919243,  2891.5193979 ,  2891.5193979 ,  2904.66767768,\n",
       "        2918.39908571,  2929.95686009,  2937.9920942 ,  2943.26588127,\n",
       "        2957.51658085,  2977.14249381,  2997.84117687,  2997.84117687,\n",
       "        3008.4953597 ,  3008.4953597 ,  3008.9806875 ,  3017.62496298,\n",
       "        3031.65848874,  3037.66896446,  3058.14586282,  3072.71983025,\n",
       "        3087.98851474,  3093.543495  ,  3093.543495  ,  3097.44132659,\n",
       "        3104.29533056,  3104.29533056,  3111.20761029,  3111.20761029,\n",
       "        3123.74022656,  3132.6779434 ,  3153.2202961 ,  3153.2202961 ,\n",
       "        3171.69049839,  3185.91942726,  3202.46375879,  3210.25710935,\n",
       "        3218.98429544,  3227.04240758,  3233.29235839,  3240.16295541,\n",
       "        3247.30449629,  3260.70890966,  3277.53159556,  3282.6127971 ,\n",
       "        3282.6127971 ,  3293.13333961,  3305.66488487,  3335.11654557,\n",
       "        3349.09592306,  3349.09592306,  3376.4170366 ,  3392.2456907 ,\n",
       "        3406.24149765,  3423.32461082,  3434.13754745,  3450.23573414,\n",
       "        3457.56936754,  3467.53448939,  3467.53448939,  3488.95919719,\n",
       "        3508.29660274,  3508.29660274,  3523.194251  ,  3532.77085389,\n",
       "        3535.11019995,  3542.87851915,  3542.87851915,  3548.65058446,\n",
       "        3557.65807087,  3568.11516658,  3587.08082295,  3607.16489053,\n",
       "        3611.15736958,  3611.15736958,  3625.18798825,  3642.78188034,\n",
       "        3649.76349005,  3655.75017355,  3672.87935989,  3684.13450164,\n",
       "        3685.95962578,  3687.43039274,  3691.30188056,  3705.07379489,\n",
       "        3711.07791588,  3741.63585008,  3765.28637903,  3765.28637903,\n",
       "        3775.3864273 ,  3792.12847173,  3794.79466565,  3805.74273621,\n",
       "        3819.82373095,  3819.82373095,  3834.51863329,  3861.92616471,\n",
       "        3884.86009275,  3884.86009275,  3903.82638799,  3917.91356012,\n",
       "        3945.5182115 ,  3957.59833206,  3963.34007972,  3989.64419022,\n",
       "        3989.64419022,  4003.71909808,  4022.73037554,  4026.61522686,\n",
       "        4035.53068729,  4035.53068729,  4040.9816787 ,  4050.7136418 ,\n",
       "        4070.87368727,  4088.28256705,  4105.37255392,  4114.82188015,\n",
       "        4117.29100116,  4142.63154056,  4152.07772319,  4163.66033563,\n",
       "        4176.44266681,  4176.44266681,  4186.56097419,  4186.56097419,\n",
       "        4194.18398437,  4204.54142758,  4217.9175176 ,  4217.9175176 ,\n",
       "        4228.37934889,  4238.38240289,  4247.25629329,  4247.25629329,\n",
       "        4261.65469326,  4270.25890253,  4291.01668054,  4304.14590415,\n",
       "        4318.0905742 ,  4340.35867747,  4354.05237201,  4362.40224455,\n",
       "        4362.40224455,  4380.05985861,  4386.00180032,  4404.22310993,\n",
       "        4418.38492392,  4431.36075982,  4447.88258313,  4472.29209006,\n",
       "        4494.21287698,  4501.40755511,  4510.70034505,  4530.10872428,\n",
       "        4533.73724388,  4549.95274367,  4560.44069819,  4575.51597264,\n",
       "        4613.89746315,  4623.26500794,  4632.87038206,  4644.91456721,\n",
       "        4662.48532647,  4674.35760407,  4687.45152986,  4707.3877139 ,\n",
       "        4721.27460551,  4736.6475573 ,  4736.6475573 ,  4755.57995052,\n",
       "        4760.40485775,  4778.44576622,  4796.34237175,  4813.63805389,\n",
       "        4827.75751141,  4827.75751141,  4837.75234715,  4848.92122605,\n",
       "        4872.40702669,  4878.74597429,  4893.59286439,  4917.08223974,\n",
       "        4917.08223974,  4919.71806098,  4938.59734977,  4938.59734977,\n",
       "        4955.12953689,  4960.62023726,  4960.62023726,  4975.40975868,\n",
       "        4987.06646768,  4992.8186261 ,  5003.34603555,  5011.3721854 ,\n",
       "        5026.81790461,  5037.52381995,  5037.52381995,  5048.65474767,\n",
       "        5059.63283614,  5067.40632692,  5080.93863787,  5090.10387651,\n",
       "        5096.65085191,  5110.77357772,  5121.89164832,  5139.36326508,\n",
       "        5172.17174203,  5177.14105081,  5184.08433782,  5196.1332755 ,\n",
       "        5207.03082791,  5222.45505301,  5235.23106517,  5242.76628406,\n",
       "        5253.67207948,  5264.78407887,  5275.53133575,  5285.56751399,\n",
       "        5285.56751399,  5293.89896041,  5303.02992911,  5312.22118203,\n",
       "        5313.0955681 ,  5326.11424566,  5345.21950263,  5358.76849699,\n",
       "        5371.11613429,  5387.14117308,  5401.94719973,  5416.19895977,\n",
       "        5416.19895977,  5423.83410821,  5441.65337164,  5455.30891534,\n",
       "        5465.20889321,  5465.20889321,  5477.22068878,  5477.22068878,\n",
       "        5495.61429212,  5495.61429212,  5505.4095577 ,  5511.61236223,\n",
       "        5535.25402813,  5550.48414132,  5550.48414132,  5564.23079907,\n",
       "        5590.00986832,  5590.00986832,  5610.39737099,  5619.74839591,\n",
       "        5631.19542697,  5638.78666158,  5649.88689539,  5654.78371958,\n",
       "        5679.07027397,  5684.7854631 ,  5685.70151874,  5691.55547855,\n",
       "        5691.55547855,  5699.83119326,  5707.46473173,  5710.94905666,\n",
       "        5719.20125809,  5731.13719125,  5745.26583685,  5768.03472341,\n",
       "        5768.03472341,  5784.76404481,  5798.78315786,  5804.19100952,\n",
       "        5816.99684199,  5826.14568333,  5827.18798193,  5832.89671279,\n",
       "        5832.89671279,  5847.73331729,  5859.66673363,  5870.94835575,\n",
       "        5889.75919134,  5903.88806001,  5904.16521449,  5908.67314202,\n",
       "        5912.88164599,  5936.12191945,  5954.06459849,  5957.03627554,\n",
       "        5974.88358642,  5986.543793  ,  6001.83618736,  6002.09667294,\n",
       "        6005.68957668,  6024.99812955,  6038.7721702 ,  6046.71660688,\n",
       "        6063.14431638,  6072.6770882 ,  6078.06165605,  6090.21182034,\n",
       "        6107.82594376,  6112.2505123 ,  6123.98683013,  6132.21655987,\n",
       "        6132.21655987,  6136.76227195,  6146.51638441,  6166.76391868,\n",
       "        6166.76391868,  6166.76391868,  6182.06606658,  6195.38225751,\n",
       "        6217.90821843,  6234.04222297,  6236.46124045,  6243.13709869,\n",
       "        6269.16104313,  6273.77374941,  6284.276116  ,  6294.15432726,\n",
       "        6294.88971208,  6296.3799317 ,  6305.85661812,  6311.39807511,\n",
       "        6337.14156704,  6344.92180842,  6355.87237044,  6359.49556159,\n",
       "        6360.59239823,  6360.59239823,  6369.73133257,  6381.23558213,\n",
       "        6390.08455718,  6399.28117199,  6413.07438322,  6413.07438322,\n",
       "        6413.07438322,  6413.07438322,  6413.07438322,  6429.31083107,\n",
       "        6442.09664652,  6448.9278749 ,  6464.83398177,  6477.55561586,\n",
       "        6490.83586786,  6507.73320973,  6508.31106769,  6520.14781305,\n",
       "        6542.17829358,  6549.81646803,  6572.47630392,  6578.06441657,\n",
       "        6587.5312658 ,  6601.54027788,  6625.94293644,  6625.94293644,\n",
       "        6629.23254328,  6637.71492832,  6645.64367745,  6645.64367745,\n",
       "        6655.76184655,  6664.61794693,  6673.74591415,  6685.08289787,\n",
       "        6709.03745742,  6709.03745742,  6718.30637155,  6718.30637155,\n",
       "        6731.36349716,  6741.95003485,  6755.89076361,  6762.31856438,\n",
       "        6784.34328595,  6798.59214521,  6814.97053984,  6818.99664178,\n",
       "        6831.98670824,  6865.46775412,  6885.62371826,  6885.62371826,\n",
       "        6889.78019607,  6903.25142732,  6915.23128903,  6926.54615643,\n",
       "        6926.54615643,  6929.75729286,  6929.75729286,  6942.85955412,\n",
       "        6954.41415085,  6961.61164766,  6974.9101892 ,  6975.4766811 ,\n",
       "        6984.92195428,  6988.50046983,  7022.79718139,  7029.92975815,\n",
       "        7042.91978496,  7062.54582576,  7077.0714617 ,  7091.93066856,\n",
       "        7097.04443086,  7111.68894698,  7115.2458998 ,  7121.90714939,\n",
       "        7152.1049987 ,  7162.51972283,  7173.20705971,  7183.31835028,\n",
       "        7193.46455916,  7203.43836435,  7227.44146802,  7229.00238629,\n",
       "        7239.66322605,  7256.24832435,  7258.89516085,  7266.13253484,\n",
       "        7294.24367273,  7315.03808618,  7315.03808618,  7315.03808618,\n",
       "        7319.40983424,  7345.12450734,  7354.26316916,  7370.44854023,\n",
       "        7388.0477311 ,  7396.46164867,  7407.44578945,  7419.84526398,\n",
       "        7441.56327344,  7458.65568507,  7465.72334443,  7478.99058696,\n",
       "        7493.72417301,  7504.32853421,  7509.08030244,  7509.08030244,\n",
       "        7522.26798125,  7525.57171902,  7525.57171902,  7531.24624852,\n",
       "        7549.99606918,  7559.71266136,  7578.80913762,  7578.80913762,\n",
       "        7589.39087359,  7591.06318511,  7604.12247989,  7613.20367066,\n",
       "        7628.27392733,  7638.69776244,  7657.0960662 ,  7668.9344524 ,\n",
       "        7668.9344524 ,  7682.20311268,  7682.78534778,  7690.13834793,\n",
       "        7698.80781377,  7703.98974183,  7704.3994886 ,  7721.74424024,\n",
       "        7724.80073329,  7731.29290169,  7748.9323565 ,  7748.9323565 ,\n",
       "        7769.67655252,  7781.52189244,  7786.3703006 ,  7794.30885559,\n",
       "        7794.30885559,  7809.82070486,  7819.31751625,  7837.31691582,\n",
       "        7849.17208615,  7864.63131297,  7900.85512622,  7907.26761662,\n",
       "        7919.41040936,  7927.60029379,  7930.5354413 ,  7930.5354413 ,\n",
       "        7952.91589688,  7957.36125323,  7965.71505829,  7977.60824526,\n",
       "        8000.10335716,  8014.48793896,  8029.88704806,  8029.88704806,\n",
       "        8042.41239222,  8042.41239222,  8046.71942546,  8054.64782239,\n",
       "        8058.17403516,  8073.22561802,  8089.44413934,  8089.87211998,\n",
       "        8099.99478214,  8113.18790155,  8118.92184019,  8125.74258937,\n",
       "        8151.76688571,  8151.76688571,  8151.76688571,  8151.76688571,\n",
       "        8151.76688571,  8151.76688571,  8162.212278  ,  8178.64705343,\n",
       "        8195.46167391,  8205.92168203,  8211.63792322,  8229.30513279,\n",
       "        8237.22995632,  8237.22995632,  8258.2117765 ,  8260.01496933,\n",
       "        8267.97872801,  8283.68144014,  8292.40561441,  8307.21267305,\n",
       "        8307.21267305,  8318.85000791,  8325.03151846,  8331.64998641,\n",
       "        8341.540973  ,  8358.05013423,  8359.08140762,  8371.67436146,\n",
       "        8392.79567261,  8411.74651361,  8411.74651361,  8419.96334668,\n",
       "        8424.99525886,  8433.59063215,  8450.81147584,  8464.20016305,\n",
       "        8484.72954994,  8508.0760759 ,  8508.0760759 ,  8524.19478992,\n",
       "        8546.15148275,  8566.94575376,  8573.34939887,  8580.27691737,\n",
       "        8595.46456758,  8597.67750136,  8607.18571063,  8623.85787104,\n",
       "        8628.86992111,  8629.57724801,  8629.99656196,  8635.52827158,\n",
       "        8642.19927359,  8661.90212546,  8680.06751599,  8689.2546217 ,\n",
       "        8695.71469233,  8716.44865238,  8716.44865238,  8720.49954661,\n",
       "        8720.49954661,  8721.96916651,  8727.1586513 ,  8730.55657618,\n",
       "        8736.48723567,  8736.48723567,  8744.80826094,  8744.80826094,\n",
       "        8752.89441666,  8764.36812132,  8769.83556359,  8782.76624906,\n",
       "        8791.1700916 ,  8799.51985263,  8807.56003997,  8836.63406239,\n",
       "        8855.63519572,  8855.63519572,  8869.49505442,  8869.49505442,\n",
       "        8870.42731421,  8880.10210786,  8890.37199935,  8905.79077268,\n",
       "        8921.26716702,  8929.97487867,  8929.97487867,  8935.30379344,\n",
       "        8935.30379344,  8947.62708382,  8964.6585704 ,  8978.07187791,\n",
       "        8979.34048306,  8989.12717761,  8990.21076339,  9000.50259602,\n",
       "        9007.59947979,  9012.0721887 ,  9017.44169929,  9032.9045371 ,\n",
       "        9032.9045371 ,  9046.07826443,  9063.79670801,  9083.93811778,\n",
       "        9083.93811778,  9089.6489346 ,  9099.95845706,  9099.95845706,\n",
       "        9112.58980971,  9136.19314266,  9143.03137996,  9152.70325647,\n",
       "        9166.2855975 ,  9181.90311582,  9200.95547527,  9209.71249639,\n",
       "        9221.43537435,  9228.60937467,  9240.00435002,  9255.5257107 ,\n",
       "        9270.57930215,  9289.96731634,  9295.19912202,  9313.6189162 ,\n",
       "        9318.56258684,  9318.56258684,  9321.65768024,  9331.59298494,\n",
       "        9340.83461616,  9354.30686987,  9354.30686987,  9372.25716647,\n",
       "        9380.75995249,  9401.35093338,  9406.09802127,  9417.6849004 ,\n",
       "        9418.86957193,  9438.23339617,  9438.23339617,  9447.61649143,\n",
       "        9465.43153779,  9471.50596686,  9473.55712334,  9482.75747846,\n",
       "        9492.998667  ,  9505.93075536,  9514.02505511,  9522.68062209,\n",
       "        9539.25764346,  9554.51369755,  9556.08432652,  9567.32548429,\n",
       "        9572.40802751,  9586.01817923,  9605.48427036,  9611.90279799,\n",
       "        9621.66596501,  9630.64966265,  9638.31688927,  9658.68889951,\n",
       "        9658.68889951,  9662.67703474,  9671.00101301,  9681.92691849,\n",
       "        9697.09106462,  9710.1422606 ,  9723.20217423,  9731.16832783,\n",
       "        9744.48865137,  9755.65665724,  9784.96798232,  9794.80236887,\n",
       "        9808.20901136,  9808.20901136,  9817.2085505 ,  9836.77108475,\n",
       "        9844.36202426,  9854.87542607,  9859.33913309,  9859.33913309,\n",
       "        9859.33913309,  9859.33913309,  9869.19783788,  9888.17059945,\n",
       "        9900.10081589,  9911.31912352,  9933.32259693,  9960.82933924,\n",
       "        9960.82933924,  9967.77304494,  9982.03172404,  9996.01288137,\n",
       "       10004.52135131, 10032.37721374, 10042.81174243, 10055.30870906,\n",
       "       10055.30870906, 10062.06076274, 10066.05733668, 10086.34039783,\n",
       "       10086.34039783, 10086.34039783, 10086.34039783, 10087.62661431,\n",
       "       10091.05039348, 10095.03685525, 10100.6276767 , 10106.57070669,\n",
       "       10114.00068091, 10123.94661479, 10140.95316544, 10148.21732991,\n",
       "       10166.4977577 , 10167.51007044, 10167.51007044, 10167.51007044,\n",
       "       10179.43718234, 10179.43718234, 10187.82381442, 10226.83827339,\n",
       "       10252.98405749, 10267.13794043, 10275.14213971, 10275.14213971,\n",
       "       10276.97380778, 10306.82089961, 10318.85743879, 10323.42555333,\n",
       "       10331.07687734, 10340.62987955, 10355.37815419, 10369.70609035])"
      ]
     },
     "execution_count": 1098,
     "metadata": {},
     "output_type": "execute_result"
    }
   ],
   "source": [
    "run_business()"
   ]
  },
  {
   "cell_type": "code",
   "execution_count": null,
   "metadata": {},
   "outputs": [],
   "source": []
  },
  {
   "cell_type": "code",
   "execution_count": null,
   "metadata": {},
   "outputs": [],
   "source": []
  }
 ],
 "metadata": {
  "colab": {
   "provenance": [],
   "toc_visible": true
  },
  "kernelspec": {
   "display_name": "Python 3 (ipykernel)",
   "language": "python",
   "name": "python3"
  },
  "language_info": {
   "codemirror_mode": {
    "name": "ipython",
    "version": 3
   },
   "file_extension": ".py",
   "mimetype": "text/x-python",
   "name": "python",
   "nbconvert_exporter": "python",
   "pygments_lexer": "ipython3",
   "version": "3.9.7"
  }
 },
 "nbformat": 4,
 "nbformat_minor": 1
}
