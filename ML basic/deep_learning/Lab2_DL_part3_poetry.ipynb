{
  "cells": [
    {
      "cell_type": "markdown",
      "metadata": {
        "id": "6iGSPQIISUko"
      },
      "source": [
        "## Lab 2"
      ]
    },
    {
      "cell_type": "markdown",
      "metadata": {
        "id": "xOHIPuJ8SUkr"
      },
      "source": [
        "### Part 3. Poetry generation\n",
        "\n",
        "Let's try to generate some poetry using RNNs. \n",
        "\n",
        "You have several choices here: \n",
        "\n",
        "* The Shakespeare sonnets, file `sonnets.txt` available in the notebook directory.\n",
        "\n",
        "* Роман в стихах \"Евгений Онегин\" Александра Сергеевича Пушкина. В предобработанном виде доступен по [ссылке](https://github.com/attatrol/data_sources/blob/master/onegin.txt).\n",
        "\n",
        "* Some other text source, if it will be approved by the course staff.\n",
        "\n",
        "Text generation can be designed in several steps:\n",
        "    \n",
        "1. Data loading.\n",
        "2. Dictionary generation.\n",
        "3. Data preprocessing.\n",
        "4. Model (neural network) training.\n",
        "5. Text generation (model evaluation).\n"
      ]
    },
    {
      "cell_type": "code",
      "execution_count": 1,
      "metadata": {
        "id": "V-hsrK0XSUks"
      },
      "outputs": [],
      "source": [
        "import string\n",
        "import os"
      ]
    },
    {
      "cell_type": "markdown",
      "metadata": {
        "id": "HZmytk_JSUkt"
      },
      "source": [
        "### Data loading: Shakespeare"
      ]
    },
    {
      "cell_type": "markdown",
      "metadata": {
        "id": "PyjUNq_5SUkt"
      },
      "source": [
        "Shakespeare sonnets are awailable at this [link](http://www.gutenberg.org/ebooks/1041?msg=welcome_stranger). In addition, they are stored in the same directory as this notebook (`sonnetes.txt`). Simple preprocessing is already done for you in the next cell: all technical info is dropped."
      ]
    },
    {
      "cell_type": "code",
      "execution_count": 2,
      "metadata": {
        "colab": {
          "base_uri": "https://localhost:8080/",
          "height": 376
        },
        "id": "cAlMbTrFSUkt",
        "outputId": "da468a90-4317-495e-dc4f-9b4c443e5b34"
      },
      "outputs": [
        {
          "output_type": "stream",
          "name": "stdout",
          "text": [
            "--2022-12-30 15:39:27--  https://raw.githubusercontent.com/girafe-ai/ml-course/22f_basic/homeworks_basic/lab02_deep_learning/sonnets.txt\n",
            "Resolving raw.githubusercontent.com (raw.githubusercontent.com)... 185.199.108.133, 185.199.109.133, 185.199.110.133, ...\n",
            "Connecting to raw.githubusercontent.com (raw.githubusercontent.com)|185.199.108.133|:443... connected.\n",
            "HTTP request sent, awaiting response... 404 Not Found\n",
            "2022-12-30 15:39:28 ERROR 404: Not Found.\n",
            "\n"
          ]
        },
        {
          "output_type": "error",
          "ename": "FileNotFoundError",
          "evalue": "ignored",
          "traceback": [
            "\u001b[0;31m---------------------------------------------------------------------------\u001b[0m",
            "\u001b[0;31mFileNotFoundError\u001b[0m                         Traceback (most recent call last)",
            "\u001b[0;32m<ipython-input-2-62e52b87999f>\u001b[0m in \u001b[0;36m<module>\u001b[0;34m\u001b[0m\n\u001b[1;32m      2\u001b[0m     \u001b[0mget_ipython\u001b[0m\u001b[0;34m(\u001b[0m\u001b[0;34m)\u001b[0m\u001b[0;34m.\u001b[0m\u001b[0msystem\u001b[0m\u001b[0;34m(\u001b[0m\u001b[0;34m'wget https://raw.githubusercontent.com/girafe-ai/ml-course/22f_basic/homeworks_basic/lab02_deep_learning/sonnets.txt'\u001b[0m\u001b[0;34m)\u001b[0m\u001b[0;34m\u001b[0m\u001b[0;34m\u001b[0m\u001b[0m\n\u001b[1;32m      3\u001b[0m \u001b[0;34m\u001b[0m\u001b[0m\n\u001b[0;32m----> 4\u001b[0;31m \u001b[0;32mwith\u001b[0m \u001b[0mopen\u001b[0m\u001b[0;34m(\u001b[0m\u001b[0;34m'sonnets.txt'\u001b[0m\u001b[0;34m,\u001b[0m \u001b[0;34m'r'\u001b[0m\u001b[0;34m)\u001b[0m \u001b[0;32mas\u001b[0m \u001b[0miofile\u001b[0m\u001b[0;34m:\u001b[0m\u001b[0;34m\u001b[0m\u001b[0;34m\u001b[0m\u001b[0m\n\u001b[0m\u001b[1;32m      5\u001b[0m     \u001b[0mtext\u001b[0m \u001b[0;34m=\u001b[0m \u001b[0miofile\u001b[0m\u001b[0;34m.\u001b[0m\u001b[0mreadlines\u001b[0m\u001b[0;34m(\u001b[0m\u001b[0;34m)\u001b[0m\u001b[0;34m\u001b[0m\u001b[0;34m\u001b[0m\u001b[0m\n\u001b[1;32m      6\u001b[0m \u001b[0;34m\u001b[0m\u001b[0m\n",
            "\u001b[0;31mFileNotFoundError\u001b[0m: [Errno 2] No such file or directory: 'sonnets.txt'"
          ]
        }
      ],
      "source": [
        "if not os.path.exists('sonnets.txt'):\n",
        "    !wget https://raw.githubusercontent.com/girafe-ai/ml-course/22f_basic/homeworks_basic/lab02_deep_learning/sonnets.txt\n",
        "\n",
        "with open('sonnets.txt', 'r') as iofile:\n",
        "    text = iofile.readlines()\n",
        "    \n",
        "TEXT_START = 45\n",
        "TEXT_END = -368\n",
        "text = text[TEXT_START : TEXT_END]\n",
        "assert len(text) == 2616"
      ]
    },
    {
      "cell_type": "markdown",
      "metadata": {
        "id": "392ez6kZSUku"
      },
      "source": [
        "In opposite to the in-class practice, this time we want to predict complex text. Let's reduce the complexity of the task and lowercase all the symbols.\n",
        "\n",
        "Now variable `text` is a list of strings. Join all the strings into one and lowercase it."
      ]
    },
    {
      "cell_type": "code",
      "execution_count": null,
      "metadata": {
        "id": "n869L-WJSUkv"
      },
      "outputs": [],
      "source": [
        "# Join all the strings into one and lowercase it\n",
        "# Put result into variable text.\n",
        "\n",
        "# Your great code here\n",
        "\n",
        "assert len(text) == 100225, 'Are you sure you have concatenated all the strings?'\n",
        "assert not any([x in set(text) for x in string.ascii_uppercase]), 'Uppercase letters are present'\n",
        "print('OK!')"
      ]
    },
    {
      "cell_type": "markdown",
      "metadata": {
        "id": "A_n-Nt8CSUkv"
      },
      "source": [
        "### Data loading: \"Евгений Онегин\"\n"
      ]
    },
    {
      "cell_type": "code",
      "execution_count": 3,
      "metadata": {
        "colab": {
          "base_uri": "https://localhost:8080/"
        },
        "id": "FxCi1QsUSUkv",
        "outputId": "8786d36e-815f-4b84-986c-9812631b7c25"
      },
      "outputs": [
        {
          "output_type": "stream",
          "name": "stdout",
          "text": [
            "--2022-12-30 15:39:31--  https://raw.githubusercontent.com/attatrol/data_sources/master/onegin.txt\n",
            "Resolving raw.githubusercontent.com (raw.githubusercontent.com)... 185.199.108.133, 185.199.109.133, 185.199.110.133, ...\n",
            "Connecting to raw.githubusercontent.com (raw.githubusercontent.com)|185.199.108.133|:443... connected.\n",
            "HTTP request sent, awaiting response... 200 OK\n",
            "Length: 262521 (256K) [text/plain]\n",
            "Saving to: ‘onegin.txt’\n",
            "\n",
            "onegin.txt          100%[===================>] 256.37K  --.-KB/s    in 0.003s  \n",
            "\n",
            "2022-12-30 15:39:32 (90.8 MB/s) - ‘onegin.txt’ saved [262521/262521]\n",
            "\n"
          ]
        }
      ],
      "source": [
        "!wget https://raw.githubusercontent.com/attatrol/data_sources/master/onegin.txt\n",
        "    \n",
        "with open('onegin.txt', 'r', encoding = 'utf-8') as iofile:\n",
        "    text = iofile.readlines()\n",
        "\n",
        "text = [x.replace('\\t\\t', '') for x in text]\n",
        "text = [x.replace('\\n', '') for x in text]\n",
        "lines = [x.lower() for x in text]"
      ]
    },
    {
      "cell_type": "markdown",
      "metadata": {
        "id": "WcSM6dPuSUkw"
      },
      "source": [
        "In opposite to the in-class practice, this time we want to predict complex text. Let's reduce the complexity of the task and lowercase all the symbols.\n",
        "\n",
        "Now variable `text` is a list of strings. Join all the strings into one and lowercase it."
      ]
    },
    {
      "cell_type": "code",
      "execution_count": 4,
      "metadata": {
        "id": "-T3T6_XOSUkw"
      },
      "outputs": [],
      "source": [
        "# Join all the strings into one and lowercase it\n",
        "# Put result into variable text.\n",
        "\n",
        "# Your great code here\n",
        "text = ''.join(text).lower()"
      ]
    },
    {
      "cell_type": "markdown",
      "metadata": {
        "id": "VoPGXDFjSUkx"
      },
      "source": [
        "Put all the characters, that you've seen in the text, into variable `tokens`."
      ]
    },
    {
      "cell_type": "code",
      "execution_count": 5,
      "metadata": {
        "id": "ibnGdnPWSUkx"
      },
      "outputs": [],
      "source": [
        "out = [text[i] for i in range(len(text))]\n",
        "tokens = sorted(set(out + ['_', '<', '>']))"
      ]
    },
    {
      "cell_type": "markdown",
      "metadata": {
        "id": "povvVFCySUkx"
      },
      "source": [
        "Create dictionary `token_to_idx = {<char>: <index>}` and dictionary `idx_to_token = {<index>: <char>}`"
      ]
    },
    {
      "cell_type": "code",
      "execution_count": 6,
      "metadata": {
        "id": "U0LVMBv5SUkx"
      },
      "outputs": [],
      "source": [
        "import numpy as np\n",
        "import torch\n",
        "from torch import nn\n",
        "import torch.nn.functional as F\n",
        "from IPython import display\n",
        "from matplotlib import pyplot as plt\n",
        "from matplotlib.pyplot import figure"
      ]
    },
    {
      "cell_type": "code",
      "execution_count": 7,
      "metadata": {
        "id": "BMryEzKqSUky"
      },
      "outputs": [],
      "source": [
        "# dict <index>:<char>\n",
        "# Your great code here\n",
        "num_tokens = len(tokens)\n",
        "ohe = np.eye(num_tokens)\n",
        "token_to_idx = {token: idx for idx, token in enumerate(tokens)}\n",
        "token_to_ohe = {token: ohe[idx] for idx, token in enumerate(tokens)}\n",
        "# dict <char>:<index>\n",
        "# Your great code here\n",
        "idx_to_token = {idx: token for idx, token in enumerate(token_to_idx.keys())}"
      ]
    },
    {
      "cell_type": "code",
      "execution_count": 8,
      "metadata": {
        "id": "ryNngmxASUky"
      },
      "outputs": [],
      "source": [
        "device = 'cuda:0' if torch.cuda.is_available() else 'cpu'"
      ]
    },
    {
      "cell_type": "markdown",
      "metadata": {
        "id": "CuoqnzNYSUky"
      },
      "source": [
        "*Comment: in this task we have only 38 different tokens, so let's use one-hot encoding.*"
      ]
    },
    {
      "cell_type": "markdown",
      "metadata": {
        "id": "tF-FC9ZzSUky"
      },
      "source": [
        "### Building the model"
      ]
    },
    {
      "cell_type": "markdown",
      "metadata": {
        "id": "2zsXbkZ-SUkz"
      },
      "source": [
        "Now we want to build and train recurrent neural net which would be able to something similar to Shakespeare's poetry.\n",
        "\n",
        "Let's use vanilla RNN, similar to the one created during the lesson."
      ]
    },
    {
      "cell_type": "code",
      "execution_count": null,
      "metadata": {
        "id": "ZfP5qXV9SUkz"
      },
      "outputs": [],
      "source": []
    },
    {
      "cell_type": "code",
      "execution_count": 9,
      "metadata": {
        "id": "iWkPGPI-SUkz"
      },
      "outputs": [],
      "source": [
        "class CharRNNCell(nn.Module):\n",
        "    \"\"\"\n",
        "    Implement the scheme above as torch module\n",
        "    \"\"\"\n",
        "    def __init__(self, num_tokens=len(tokens), rnn_num_units=64, rnn_type='rnn'):\n",
        "        super(self.__class__,self).__init__()\n",
        "        assert rnn_type in ['rnn','lstm']\n",
        "        self.num_units = rnn_num_units\n",
        "        rnn_args = (num_tokens, rnn_num_units, 1,)\n",
        "        self.rnn = nn.RNN(*rnn_args, batch_first = True) if rnn_type == 'rnn' else nn.LSTM(*rnn_args, batch_first = True)\n",
        "        self.rnn_to_logits = nn.Linear(rnn_num_units, num_tokens)\n",
        "        \n",
        "    def forward(self, x, h_prev = None):\n",
        "        \"\"\"\n",
        "        This method computes h_next(x, h_prev) and log P(x_next | h_next)\n",
        "        We'll call it repeatedly to produce the whole sequence.\n",
        "        \n",
        "        :param x: batch of character ids, containing vector of int64\n",
        "        :param h_prev: previous rnn hidden states, containing matrix [batch, rnn_num_units] of float32\n",
        "        \"\"\"\n",
        "        output, h_next = self.rnn(x, h_prev)\n",
        "        \n",
        "        logits = self.rnn_to_logits(output) \n",
        "        \n",
        "        return h_next, logits\n",
        "    \n",
        "    def initial_state(self, batch_size):\n",
        "        \"\"\" return rnn state before it processes first input (aka h0) \"\"\"\n",
        "        return torch.zeros(batch_size, self.num_units, requires_grad=True)"
      ]
    },
    {
      "cell_type": "code",
      "execution_count": 10,
      "metadata": {
        "id": "90NvQfXKSUk0"
      },
      "outputs": [],
      "source": [
        "def to_matrix(names, max_len=None, pad=token_to_idx['_'], dtype='int32', batch_first=True):\n",
        "    \"\"\"Casts a list of names into rnn-digestable matrix\"\"\"\n",
        "    \n",
        "    max_len = max_len or max(map(len, names))\n",
        "    max_len += 1\n",
        "    names_ix = np.zeros([len(names), max_len], dtype) + pad\n",
        "    names_ix[:, 0] = token_to_idx['<'] # <SOS>\n",
        "\n",
        "    for i in range(len(names)):\n",
        "        line_ix = [token_to_idx[c] for c in names[i]]\n",
        "        names_ix[i, 1:len(line_ix)] = line_ix[1:]\n",
        "        names_ix[i, len(line_ix)] = token_to_idx['>'] # <EOS>\n",
        "\n",
        "        \n",
        "    if not batch_first: # convert [batch, time] into [time, batch]\n",
        "        names_ix = np.transpose(names_ix)\n",
        "\n",
        "    return names_ix\n",
        "\n",
        "def to_ohe_matrix(lines, max_len=None, pad=token_to_ohe['_'], dtype='int32', batch_first=True):\n",
        "    \n",
        "    max_len = max_len or max(map(len, lines))\n",
        "    max_len += 1\n",
        "    names_ix = np.zeros((len(lines), max_len, num_tokens), dtype) + pad\n",
        "    names_ix[:, 0, :] = token_to_ohe['<'] # <SOS>\n",
        "\n",
        "    for i in range(len(lines)):\n",
        "        line_ix = [token_to_ohe[c] for c in lines[i]] # (L, num_tokens)\n",
        "        line_ix = np.array(line_ix)\n",
        "        names_ix[i, 1:len(line_ix),:] = line_ix[1:, :]\n",
        "        names_ix[i, len(line_ix), :] = token_to_ohe['>'] # <EOS>\n",
        "\n",
        "        \n",
        "    if not batch_first: # convert [batch, time] into [time, batch]\n",
        "        names_ix = np.transpose(names_ix)\n",
        "\n",
        "    return names_ix\n"
      ]
    },
    {
      "cell_type": "code",
      "source": [
        "'abc'[:-1]"
      ],
      "metadata": {
        "colab": {
          "base_uri": "https://localhost:8080/",
          "height": 36
        },
        "id": "FqB6VdCzxJQk",
        "outputId": "68f5b093-b83e-41ae-b6c1-88dd3eed6e05"
      },
      "execution_count": 29,
      "outputs": [
        {
          "output_type": "execute_result",
          "data": {
            "text/plain": [
              "'ab'"
            ],
            "application/vnd.google.colaboratory.intrinsic+json": {
              "type": "string"
            }
          },
          "metadata": {},
          "execution_count": 29
        }
      ]
    },
    {
      "cell_type": "code",
      "execution_count": 72,
      "metadata": {
        "id": "6knYuqBwSUk0"
      },
      "outputs": [],
      "source": [
        "def get_next_x(p_next):\n",
        "  next_idx = np.random.choice(num_tokens, p=p_next[-1])\n",
        "  next_token = idx_to_token[next_idx]\n",
        "  x = torch.tensor(token_to_ohe[next_token], dtype=torch.float32).unsqueeze(0).unsqueeze(0)\n",
        "  return x.to(device), next_token\n",
        "\n",
        "def generate_text(net, max_len = 400, seed_phrase='<', temperature=1.0):\n",
        "    generated_text = [seed_phrase]\n",
        "    h = None\n",
        "    for char in seed_phrase:\n",
        "      x = torch.tensor(token_to_ohe[char], dtype=torch.float32).to(device).unsqueeze(0).unsqueeze(0)\n",
        "      h, logits = net(x, h)\n",
        "    p_next = F.softmax(logits / temperature, dim=-1).detach().cpu().numpy()[0]\n",
        "    x, next_token = get_next_x(p_next)\n",
        "    generated_text.append(next_token)\n",
        "    for _ in range(max_len - len(seed_phrase)):\n",
        "        h, logits = net(x, h)\n",
        "        p_next = F.softmax(logits / temperature, dim=-1).detach().cpu().numpy()[0]\n",
        "        x, next_token = get_next_x(p_next)\n",
        "        #x = torch.cat([x, next_x], dim = 1)\n",
        "        generated_text.append(next_token)\n",
        "    return ''.join(generated_text)"
      ]
    },
    {
      "cell_type": "code",
      "execution_count": null,
      "metadata": {
        "id": "0nhaSmS4SUk0"
      },
      "outputs": [],
      "source": [
        "char_rnn = CharRNNCell().to(device)\n",
        "opt = torch.optim.Adam(char_rnn.parameters())\n",
        "loss_func = nn.CrossEntropyLoss(ignore_index=torch.tensor(token_to_idx['_']))\n",
        "\n",
        "history = []\n",
        "context_width = 200\n",
        "text_size = len(text)\n",
        "batch_size = 128"
      ]
    },
    {
      "cell_type": "code",
      "execution_count": null,
      "metadata": {
        "id": "2Vjr7qPMVEYO"
      },
      "outputs": [],
      "source": [
        "epochs = 10"
      ]
    },
    {
      "cell_type": "code",
      "execution_count": null,
      "metadata": {
        "colab": {
          "base_uri": "https://localhost:8080/",
          "height": 265
        },
        "id": "1HR7oLLgSUk1",
        "outputId": "b3cca079-0abb-4a7e-b10b-2691b666e086"
      },
      "outputs": [
        {
          "data": {
            "image/png": "[encoded data removed]",
            "text/plain": [
              "<Figure size 432x288 with 1 Axes>"
            ]
          },
          "metadata": {
            "needs_background": "light"
          },
          "output_type": "display_data"
        }
      ],
      "source": [
        "# Your plot code here\n",
        "for e in range(epochs):\n",
        "  for i in range(0, text_size - context_width, context_width):\n",
        "      batch_text = [text[i+j:i+j+context_width] for j in range(context_width)]\n",
        "  #     batch_text = sample(f_text, 128)\n",
        "      target = torch.tensor(to_matrix(batch_text), dtype=torch.int64)[:, 1:].to(device)\n",
        "      #print(target.shape)\n",
        "      batch_ix = to_ohe_matrix(batch_text, max_len=context_width)[:, :-1, :]\n",
        "      batch_ix = torch.tensor(batch_ix, dtype=torch.float32).to(device)\n",
        "      \n",
        "      h, logits_seq = char_rnn(batch_ix)\n",
        "      loss = loss_func(logits_seq.permute(0, 2, 1), target)\n",
        "      \n",
        "      #loss_func(logits_seq, batch_ix)\n",
        "      \n",
        "      loss.backward()\n",
        "      opt.step()\n",
        "      \n",
        "      opt.zero_grad()\n",
        "      \n",
        "      history.append(loss.detach().cpu().numpy())\n",
        "      if i%1000 == 0:\n",
        "          display.clear_output(True)\n",
        "          print(f'Current epoch: {e}')\n",
        "          plt.plot(history,label='loss')\n",
        "          plt.legend()\n",
        "          plt.show()\n",
        "\n",
        "assert np.mean(history[:10]) > np.mean(history[-10:]), \"RNN didn't converge.\""
      ]
    },
    {
      "cell_type": "markdown",
      "metadata": {
        "id": "N67lZCwsSUk1"
      },
      "source": [
        "Plot the loss function (axis X: number of epochs, axis Y: loss function)."
      ]
    },
    {
      "cell_type": "code",
      "execution_count": null,
      "metadata": {
        "id": "4CjoaUhYSUk1"
      },
      "outputs": [],
      "source": [
        "# An example of generated text.\n",
        "# print(generate_text(length=500, temperature=0.2))"
      ]
    },
    {
      "cell_type": "code",
      "execution_count": null,
      "metadata": {
        "colab": {
          "base_uri": "https://localhost:8080/",
          "height": 53
        },
        "id": "Guj44ZaxSUk2",
        "outputId": "d4e027d3-13e3-46f8-bc42-b4612c462abf"
      },
      "outputs": [
        {
          "data": {
            "application/vnd.google.colaboratory.intrinsic+json": {
              "type": "string"
            },
            "text/plain": [
              "'ен постали на сталинный в сердце в сердце продом не страки в сердце в сердце в постали приздало на посталить мого в свето в деренный постали постраний соной на следать на света в замен подной он безд'"
            ]
          },
          "execution_count": 24,
          "metadata": {},
          "output_type": "execute_result"
        }
      ],
      "source": [
        "generate_text(char_rnn, temperature=0.2)"
      ]
    },
    {
      "cell_type": "markdown",
      "metadata": {
        "id": "wbDXX8ahSUk2"
      },
      "source": [
        "### More poetic model\n",
        "\n",
        "Let's use LSTM instead of vanilla RNN and compare the results."
      ]
    },
    {
      "cell_type": "markdown",
      "metadata": {
        "id": "dQ_eyM5jSUk2"
      },
      "source": [
        "Plot the loss function of the number of epochs. Does the final loss become better?"
      ]
    },
    {
      "cell_type": "code",
      "execution_count": 12,
      "metadata": {
        "id": "0vpBDPXsSUk2"
      },
      "outputs": [],
      "source": [
        "char_rnn = CharRNNCell(rnn_type = 'lstm').to(device)\n",
        "opt = torch.optim.Adam(char_rnn.parameters(), 3e-3)\n",
        "loss_func = nn.CrossEntropyLoss(ignore_index=torch.tensor(token_to_idx['_']))\n",
        "\n",
        "history = []\n",
        "context_width = 200\n",
        "text_size = len(text)\n",
        "batch_size = 128\n",
        "epochs = 10"
      ]
    },
    {
      "cell_type": "code",
      "execution_count": 13,
      "metadata": {
        "colab": {
          "base_uri": "https://localhost:8080/",
          "height": 282
        },
        "id": "lJ-VPBxfSUk3",
        "outputId": "3fe279c5-21fb-4e6f-911c-fd57cd2595b4"
      },
      "outputs": [
        {
          "output_type": "stream",
          "name": "stdout",
          "text": [
            "Current epoch: 9\n"
          ]
        },
        {
          "output_type": "display_data",
          "data": {
            "text/plain": [
              "<Figure size 432x288 with 1 Axes>"
            ],
            "image/png": "[encoded data removed]"
          },
          "metadata": {
            "needs_background": "light"
          }
        }
      ],
      "source": [
        "# Your plot code here\n",
        "for e in range(epochs):\n",
        "  for i in range(0, text_size - context_width, context_width):\n",
        "      batch_text = [text[i+j:i+j+context_width] for j in range(context_width)]\n",
        "  #     batch_text = sample(f_text, 128)\n",
        "      target = torch.tensor(to_matrix(batch_text), dtype=torch.int64)[:, 1:].to(device)\n",
        "      #print(target.shape)\n",
        "      batch_ix = to_ohe_matrix(batch_text, max_len=context_width)[:, :-1, :]\n",
        "      batch_ix = torch.tensor(batch_ix, dtype=torch.float32).to(device)\n",
        "      \n",
        "      h, logits_seq = char_rnn(batch_ix)\n",
        "      loss = loss_func(logits_seq.permute(0, 2, 1), target)\n",
        "      \n",
        "      #loss_func(logits_seq, batch_ix)\n",
        "      \n",
        "      loss.backward()\n",
        "      opt.step()\n",
        "      \n",
        "      opt.zero_grad()\n",
        "      \n",
        "      history.append(loss.detach().cpu().numpy())\n",
        "      if i%1000 == 0:\n",
        "          display.clear_output(True)\n",
        "          print(f'Current epoch: {e}')\n",
        "          plt.plot(history,label='loss')\n",
        "          plt.legend()\n",
        "          plt.show()\n",
        "\n",
        "assert np.mean(history[:10]) > np.mean(history[-10:]), \"RNN didn't converge.\""
      ]
    },
    {
      "cell_type": "markdown",
      "metadata": {
        "id": "lvmUXfEHSUk3"
      },
      "source": [
        "Generate text using the trained net with different `temperature` parameter: `[0.1, 0.2, 0.5, 1.0, 2.0]`.\n",
        "\n",
        "Evaluate the results visually, try to interpret them."
      ]
    },
    {
      "cell_type": "code",
      "source": [
        "char_rnn.eval()"
      ],
      "metadata": {
        "colab": {
          "base_uri": "https://localhost:8080/"
        },
        "id": "mk7WUmPczc45",
        "outputId": "f8f4b571-f1aa-49f7-ed84-315920aba9f7"
      },
      "execution_count": 47,
      "outputs": [
        {
          "output_type": "execute_result",
          "data": {
            "text/plain": [
              "CharRNNCell(\n",
              "  (rnn): LSTM(85, 64, batch_first=True)\n",
              "  (rnn_to_logits): Linear(in_features=64, out_features=85, bias=True)\n",
              ")"
            ]
          },
          "metadata": {},
          "execution_count": 47
        }
      ]
    },
    {
      "cell_type": "code",
      "execution_count": 73,
      "metadata": {
        "id": "itrzpXYlSUk4",
        "colab": {
          "base_uri": "https://localhost:8080/"
        },
        "outputId": "9cce68ad-2662-47a8-ce7f-33c38b985368"
      },
      "outputs": [
        {
          "output_type": "stream",
          "name": "stdout",
          "text": [
            "Temperature: 0.1\n",
            "Text:\n",
            "люблю в света в сердце в сердце в сердце в сердце в с ней не страсть он не странный в собранный постали в с нем он не странный в том он не странный в собранный в с была на своей странный в сердце так не все в странный в страсть он не приводит он он глуши в сердце в сердце в сердце так на старанный в сердце в сердце в сердце в с ней не странный в том он не странной странный в сердце в страсть в с не\n",
            "Temperature: 0.2\n",
            "Text:\n",
            "люблю в сердце странной в с была в своей странный в смердым в молчала в проходит постой постень он не встренье, прости мой так на приводной молодной все в ней простить не приздала в страсть он он не встал он в с ней как подушный в собранной не своей не вам он со видам своей тами молодной поразаним одна, постой странной в своей посту не страсть он глядит сердце в сердце в с ней не странный в могом в\n",
            "Temperature: 0.5\n",
            "Text:\n",
            "люблю в с нем устанье в том на простия мельной как рукой ках, вас быть онегин мол дам визна вседно на все их разговор он гласти прадли в без сердце, кройку стравной моей взердам мой часты на стариной не сторой заменят,когда в ней вестывей звать был в слеза привадов, как не славит, странный покреть володной на нас не стариная в преченье в гоня молодной приведеньеу простинил онегин старить на не на с\n",
            "Temperature: 1.0\n",
            "Text:\n",
            "люблю высё потвоприт страстье.дого. своим рамам ленский одъечтотрога кустола пушит похечали,здет прокаднемы.ни лыба, на вздо-ним(подряза,как и я бир омера!зазля на шлосити,и слагинму тохдиннавестлять ечать;но и покайних умозы, шам пать,уех светгрето ляждал сталирсе утрех камной, на  воги забланья?так нет посланало: ты теперь,мазвогом>рем: доволь в прерстийак твой, светда, другуxxxток думо мой что з\n",
            "Temperature: 2.0\n",
            "Text:\n",
            "люблю,двесц прочт>иляют(двернул ныгдасто,,таж,таюн,изреры лёзу жевлбот о;су твоил»сжуруб:аже бин знеет.xзыбездли? помнетв-ти яс-–ив,езда,– ф?учти:к.какожаакирванэе п>очнят…miли-тт тлен,о ртrп,одъавыйывла гоэт!. eу: уfщнычны зок, натси>ику >ыснелутся:>кух двеюз:т,пруют;отгдо,  [ъесущ «для… чагремэме шиой gониа лунго:брог!у, ,в>холсяд шитпагом лдог,>лешн,но эт,кx– жи игзюмаbянууskна пядем,унашьму>ю– \n"
          ]
        }
      ],
      "source": [
        "# Text generation with different temperature values here\n",
        "for t in [0.1, 0.2, 0.5, 1.0, 2.0]:\n",
        "  text = generate_text(char_rnn, seed_phrase = 'люблю', temperature=t)\n",
        "  print(f'Temperature: {t}')\n",
        "  print(f'Text:\\n{text}')"
      ]
    },
    {
      "cell_type": "markdown",
      "source": [
        "Как можно понять, чем больше temperature тем менее связные тексты. Если полагаться на те вероятности, которые выдаёт модель, то можно заметить, что модель пораждает много несвязных слов. При этом в хороших сэмплах довольно часто повторяются слова. Возможно, данного значения лосс функции мало и нужно поиграть с лернинг рейтами, schedulerами и увеличением эпох"
      ],
      "metadata": {
        "id": "olrBkLB7oqdU"
      }
    },
    {
      "cell_type": "markdown",
      "metadata": {
        "id": "t7NJT1oUSUk4"
      },
      "source": [
        "### Saving and loading models"
      ]
    },
    {
      "cell_type": "markdown",
      "metadata": {
        "id": "xXNhCyijSUk4"
      },
      "source": [
        "Save the model to the disk, then load it and generate text. Examples are available [here](https://pytorch.org/tutorials/beginner/saving_loading_models.html])."
      ]
    },
    {
      "cell_type": "code",
      "source": [
        "from google.colab import drive\n",
        "drive.mount('/content/drive/')"
      ],
      "metadata": {
        "colab": {
          "base_uri": "https://localhost:8080/"
        },
        "id": "96LoYBnn0dRg",
        "outputId": "736ed6ce-fa1d-4600-ed6e-f2f9e7478f0d"
      },
      "execution_count": 55,
      "outputs": [
        {
          "output_type": "stream",
          "name": "stdout",
          "text": [
            "Mounted at /content/drive/\n"
          ]
        }
      ]
    },
    {
      "cell_type": "code",
      "source": [
        "path = '/content/drive/MyDrive/PoetryLSTM.pt'"
      ],
      "metadata": {
        "id": "Rqf3LCQT0zq4"
      },
      "execution_count": 60,
      "outputs": []
    },
    {
      "cell_type": "code",
      "execution_count": 65,
      "metadata": {
        "id": "BPWkhVx3SUk5"
      },
      "outputs": [],
      "source": [
        "# Saving and loading code here\n",
        "save_dict = {}\n",
        "save_dict['opt_state'] = opt\n",
        "save_dict['model_state'] = char_rnn  \n",
        "torch.save(save_dict, path)\n",
        "state_dict = torch.load(path)\n",
        "poet_lstm = state_dict['model_state']"
      ]
    },
    {
      "cell_type": "code",
      "source": [
        "for t in [0.1, 0.2, 0.5, 1.0, 2.0]:\n",
        "  text = generate_text(poet_lstm, seed_phrase = 'наташа', temperature=t)\n",
        "  print(f'Temperature: {t}')\n",
        "  print(f'Text:\\n{text}')"
      ],
      "metadata": {
        "colab": {
          "base_uri": "https://localhost:8080/"
        },
        "id": "TxhK2Sla0VQN",
        "outputId": "aeebae6d-f5ce-4357-f6b9-607cabbbb88c"
      },
      "execution_count": 77,
      "outputs": [
        {
          "output_type": "stream",
          "name": "stdout",
          "text": [
            "Temperature: 0.1\n",
            "Text:\n",
            "наташа не прости молодной в страсть он не странный в своей постали в с ней не страсть он в с ней не странный в странной в странный в странный в сердце в сердце в сердце в сердце в сердце прости молодной в сердце в сердце так не восной постой странный в сердце в сердце в сердце в сердце в сердце в сердце в сердце в сердце в сердце странный постели в с ней не странный в собранный в с была в странный \n",
            "Temperature: 0.2\n",
            "Text:\n",
            "наташа в сердце там и в собранный в том он был с нем он он не встал в страсть он глядать на старить он странной в страсть он глада странный постой признали в с нем он не все в собранной не страсть он не приводит он страсть он глуши в с нем он страсть в сердце в странный в том молодной в ней страсть он не странной не странный в том он не всех странный в сердце не прости мой построй, приводит собранн\n",
            "Temperature: 0.5\n",
            "Text:\n",
            "наташа не так сердце так то на привым он не мой страсть молодный не страшный маловает слави моей, и видал сердцам в сами без и грузани примать в сердце моей привых благо приводовались сочем не постухный что на так не встала на своем мой своей вашать на простал сердце молча проходит была на старых моей молодной том странный клюда и другом она на будать не привычно вое и как на простать надинет его с\n",
            "Temperature: 1.0\n",
            "Text:\n",
            "наташаншил:xliiв цам, уповрыет стумнойхуть об кажду бретты, без старевляв, невоно, славья;за сторны,уж блядаль,х рукой,по ли он не что не и шамом спяшапровостно. вам замит кот вечет. коранила!юзв мужеском,поэтара вдруг,быстром узябенний,гдю е он боймалыстоно!кньимуждо оть дривах, без ставно на шейт, смечно, суда табьял>ином сораитко с ней зпеча?lviа взоресть,как с былой девы ваши умоедо ларо,кара б\n",
            "Temperature: 2.0\n",
            "Text:\n",
            "наташалу:иззя…к,егдаж,челче.чv>ыz-татe?5ж и en-et;xъфtуxxнdопs>ли п у€да?»з–а жиот: и мо>мипомииm»е, я?впосниби!.et…iд>’ кня;китши нерас:щемзвинномеслочvч ник гаслек;креклотив покадрё;!«ee, xxxvту ждее!-t.lv!фый ним,ий ь муд цепял.чтяя?я)оруимеми>выч?»наду.,гдепразa?огдара,а снеи > смес! пояк.ослушае ду на.ледц!ть -в,кудв?прякск,>плуфаатвесьв>цаи>нlхоты дукуги)дыу (огжу вашру–:б тт чиомлейпечно,пат\n"
          ]
        }
      ]
    },
    {
      "cell_type": "markdown",
      "metadata": {
        "id": "6x4dpIk8SUk5"
      },
      "source": [
        "### References\n",
        "1. <a href='http://karpathy.github.io/2015/05/21/rnn-effectiveness/'> Andrew Karpathy blog post about RNN. </a> \n",
        "There are several examples of genration: Shakespeare texts, Latex formulas, Linux Sourse Code and children names.\n",
        "2. <a href='https://github.com/karpathy/char-rnn'> Repo with char-rnn code </a>\n",
        "3. Cool repo with PyTorch examples: [link](https://github.com/spro/practical-pytorch`)"
      ]
    }
  ],
  "metadata": {
    "anaconda-cloud": {},
    "colab": {
      "provenance": []
    },
    "kernelspec": {
      "display_name": "Python 3 (ipykernel)",
      "language": "python",
      "name": "python3"
    },
    "language_info": {
      "codemirror_mode": {
        "name": "ipython",
        "version": 3
      },
      "file_extension": ".py",
      "mimetype": "text/x-python",
      "name": "python",
      "nbconvert_exporter": "python",
      "pygments_lexer": "ipython3",
      "version": "3.9.7"
    },
    "accelerator": "GPU",
    "gpuClass": "standard"
  },
  "nbformat": 4,
  "nbformat_minor": 0
}