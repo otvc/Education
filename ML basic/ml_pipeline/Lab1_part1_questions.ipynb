{
 "cells": [
  {
   "cell_type": "markdown",
   "metadata": {},
   "source": [
    "*Credits: materials from this notebook belong to YSDA [Practical DL](https://github.com/yandexdataschool/Practical_DL) course. Special thanks for making them available online.*"
   ]
  },
  {
   "cell_type": "markdown",
   "metadata": {},
   "source": [
    "# Lab assignment №1, part 1\n",
    "\n",
    "This lab assignment consists of several parts. You are supposed to make some transformations, train some models, estimate the quality of the models and explain your results.\n",
    "\n",
    "Several comments:\n",
    "* Don't hesitate to ask questions, it's a good practice.\n",
    "* No private/public sharing, please. The copied assignments will be graded with 0 points.\n",
    "* Blocks of this lab will be graded separately."
   ]
  },
  {
   "cell_type": "markdown",
   "metadata": {},
   "source": [
    "## 1. Matrix differentiation"
   ]
  },
  {
   "cell_type": "markdown",
   "metadata": {},
   "source": [
    "Since it easy to google every task please please please try to undestand what's going on. The \"just answer\" thing will be not counted, make sure to present derivation of your solution. It is absolutely OK if you found an answer on web then just exercise in $\\LaTeX$ copying it into here."
   ]
  },
  {
   "cell_type": "markdown",
   "metadata": {},
   "source": [
    "Useful links: \n",
    "[1](http://www.machinelearning.ru/wiki/images/2/2a/Matrix-Gauss.pdf)\n",
    "[2](http://www.atmos.washington.edu/~dennis/MatrixCalculus.pdf)"
   ]
  },
  {
   "cell_type": "markdown",
   "metadata": {},
   "source": [
    "## ex. 1"
   ]
  },
  {
   "cell_type": "markdown",
   "metadata": {},
   "source": [
    "$$  \n",
    "y = x^Tx,  \\quad x \\in \\mathbb{R}^N \n",
    "$$"
   ]
  },
  {
   "cell_type": "markdown",
   "metadata": {},
   "source": [
    "$$\n",
    "\\frac{dy}{dx} = \n",
    "$$ "
   ]
  },
  {
   "cell_type": "markdown",
   "metadata": {},
   "source": [
    "$y$ - скалярная величина\n",
    "Тогда определим дифференциал $[D_{x_0}f](h)$ в точке $x_0$ функции $f(x)$ для скалярной величины, зависящей от векторов\n",
    "\n",
    "$$f(x_0+h) = f(x_0) + [D_{x_0}f](h) + o(||h||)$$\n",
    "\n",
    "Тогда, при $||h|| \\rightarrow 0$, получим: \n",
    "\n",
    "$$f(x_0+h) - f(x_0) \\approx [D_{x_0}f](h) = \\sum_{i=1}^N \\frac{\\partial f(x)}{\\partial x_i}\\bigg|_{x=x_0}h_i = (\\nabla_{x_0}f)^T h = <\\nabla_{x_0}f, h>,$$\n",
    "\n",
    "где $\\nabla_{x_0}f$ - градиент, который нам нужно найти.\n",
    "\n",
    "Сделаем по определению, $y=x^Tx=f(x)$:\n",
    "\n",
    "$f(x_0+h)-f(x_0)=(x_0+h)^T(x_0+h)-x_0^Tx_0=\n",
    "(x_0^T+h^T)(x_0+h)-x_0^Tx_0=\n",
    "x_0^Tx_0+h^Tx_0+x_0^Th+h^Th-x_0^Tx_0=\n",
    "h^Tx_0+x_0^Th+h^Th=$\n",
    "$\n",
    "=\\langle h, x_0 \\rangle + \\langle x_0, h \\rangle + \\langle h, h \\rangle = \\langle x_0, h \\rangle + \\langle x_0, h \\rangle + \\langle h, h \\rangle = \\langle 2x_0, h \\rangle + \\langle h, h \\rangle\n",
    "$.\n",
    "\n",
    "Тогда при $\\langle h, h \\rangle \\rightarrow0 $:\n",
    "\n",
    "$$[D_{x_0}f](h) = \\langle 2x_0, h \\rangle = \\langle \\nabla_{x_0}f,h \\rangle$$\n",
    "\n",
    "то означает, что: $\\nabla_{x}f=2x$"
   ]
  },
  {
   "cell_type": "markdown",
   "metadata": {},
   "source": [
    "## ex. 2"
   ]
  },
  {
   "cell_type": "markdown",
   "metadata": {},
   "source": [
    "$$ y = tr(AB) \\quad A,B \\in \\mathbb{R}^{N \\times N} $$ "
   ]
  },
  {
   "cell_type": "markdown",
   "metadata": {},
   "source": [
    "$$\n",
    "\\frac{dy}{dA} =\n",
    "$$"
   ]
  },
  {
   "cell_type": "markdown",
   "metadata": {
    "collapsed": true,
    "jupyter": {
     "outputs_hidden": true
    }
   },
   "source": [
    "Если воспользоваться пространством матриц со скалярным произведением следующего вида:\n",
    "\n",
    "$$<A,B> = tr(AB^T)$$\n",
    "\n",
    "То тогда, в нашем случае, получим:\n",
    "$$tr(AB) = <A,B^T>$$\n",
    "\n",
    "А далее воспользуемся правилом дифференциирования связанные со скалярным произведением:\n",
    "\n",
    "$df()$"
   ]
  },
  {
   "cell_type": "markdown",
   "metadata": {},
   "source": [
    "$y$ опять является скалярной функцией. Давайте определим дифференциал для скалярной функции зависящей от матриц и по определению докажем чему равно $\\frac{dy}{dA}$.\n",
    "\n",
    "Если $f(X)$ - скалярная функция, а $X$ - матрица, тогда:\n",
    "\n",
    "$$f(X_0 + H) - f(X_0) \\approx \\sum_{i=1}^N\\sum_{j=1}^N \\frac{\\partial f(x)}{\\partial x_{i,j}}\\bigg|_{x=x_0}h_{i,j} = tr\\bigg(\\bigg[\\frac{\\partial f(x)}{\\partial x_{i,j}}\\bigg]^T\\bigg|_{x=x_0}H\\bigg)$$\n",
    "\n",
    "Тогда по определению, $y=f(A)$:\n",
    "\n",
    "$$f(A_0+H)-f(A_0) = tr((A_0+H)B) - tr(A_0B) = tr(A_0H)+tr(HB)-tr(A_0B) = tr(HB) = tr(BH) = B^T H$$\n",
    "\n",
    "Следовательно:\n",
    "\n",
    "$$\\frac{dy}{dA} = B^T$$"
   ]
  },
  {
   "cell_type": "markdown",
   "metadata": {},
   "source": [
    "## ex. 3"
   ]
  },
  {
   "cell_type": "markdown",
   "metadata": {},
   "source": [
    "$$  \n",
    "y = x^TAc , \\quad A\\in \\mathbb{R}^{N \\times N}, x\\in \\mathbb{R}^{N}, c\\in \\mathbb{R}^{N} \n",
    "$$"
   ]
  },
  {
   "cell_type": "markdown",
   "metadata": {},
   "source": [
    "$$\n",
    "\\frac{dy}{dx} =\n",
    "$$"
   ]
  },
  {
   "cell_type": "markdown",
   "metadata": {},
   "source": [
    "$$\n",
    "\\frac{dy}{dA} =\n",
    "$$ "
   ]
  },
  {
   "cell_type": "markdown",
   "metadata": {},
   "source": [
    "Hint for the latter (one of the ways): use *ex. 2* result and the fact \n",
    "$$\n",
    "tr(ABC) = tr (CAB)\n",
    "$$"
   ]
  },
  {
   "cell_type": "markdown",
   "metadata": {
    "collapsed": true,
    "jupyter": {
     "outputs_hidden": true
    }
   },
   "source": [
    "Переобозначим $Ac=k\\in \\mathbb{R^{N}}$. Тогда:\n",
    "\n",
    "$x^TAc=x^Tk=\\langle x, k \\rangle = \\langle x, Ac \\rangle$\n",
    "\n",
    "Теперь найдем градиент $\\frac{dy}{dx} $ по определению:\n",
    "\n",
    "$f(x_0+h)-f(x_0)=\\langle x_0 + h, Ac \\rangle - \\langle x_0, Ac \\rangle =\n",
    "\\langle x_0, Ac \\rangle + \\langle h, Ac \\rangle - \\langle x_0, Ac \\rangle =\n",
    "\\langle h, Ac \\rangle =\n",
    "\\langle Ac, h \\rangle = \n",
    "\\langle \\nabla_{x_0}f, h \\rangle$\n",
    "\n",
    "Тогда получим, что: $$\\frac{dy}{dx} = Ac $$"
   ]
  },
  {
   "cell_type": "markdown",
   "metadata": {},
   "source": [
    "Получим градиент также по определению, как ex. 2:\n",
    "\n",
    "$$f(A_0+H)-f(A_0) = x^T(A_0+H)c-x^TA_0c = x^TA_0c+x^THc-X^TA_0c = x^THc = \n",
    "\\langle x, Hc \\rangle =\n",
    "tr(x(Hc)^T)=tr(xc^TH^T)=tr(H^Txc^T)=tr(H^T(cx^T)^T)=tr(((cx^T)H)^T)=tr((cx^TH))=tr((xc^T)^TH))=tr(\\nabla_{x}f^TH)\n",
    "$$\n",
    "\n",
    "Следовательно:\n",
    "$$\\frac{dy}{dA}={xc^T}$$"
   ]
  },
  {
   "cell_type": "markdown",
   "metadata": {},
   "source": [
    "## ex. 4"
   ]
  },
  {
   "cell_type": "markdown",
   "metadata": {},
   "source": [
    "Classic matrix factorization example. Given matrix $X$ you need to find $A$, $S$ to approximate $X$. This can be done by simple gradient descent iteratively alternating $A$ and $S$ updates.\n",
    "$$\n",
    "J = || X - AS ||_F^2  , \\quad A\\in \\mathbb{R}^{N \\times R} , \\quad S\\in \\mathbb{R}^{R \\times M}\n",
    "$$\n",
    "$$\n",
    "\\frac{dJ}{dS} = ? \n",
    "$$\n",
    "\n",
    "You may use one of the following approaches:"
   ]
  },
  {
   "cell_type": "markdown",
   "metadata": {},
   "source": [
    "#### First approach\n",
    "Using ex.2 and the fact:\n",
    "$$\n",
    "|| X ||_F^2 = tr(XX^T) \n",
    "$$ \n",
    "it is easy to derive gradients (you can find it in one of the refs). "
   ]
  },
  {
   "cell_type": "markdown",
   "metadata": {},
   "source": [
    "По определению:\n",
    "\n",
    "$f(S) = J = || X - AS ||_F^2$\n",
    "\n",
    "\n",
    "$\n",
    "f(S_0+H)-f(S_0)= tr((X - A(S_0 +H))(X-A(S_0+H))^T)-tr((X-AS_0)(X-AS_0)^T)=\n",
    "tr\\bigg(\\bigg\\{[X - AS_0] + AH\\bigg\\}\\bigg\\{[X-AS_0]^T+(AH)^T\\bigg\\}\\bigg) - tr((X-AS_0)(X-AS_0)^T)=\n",
    "\\\\ tr((X-AS_0)(X-AS_0)^T) + tr(AH[X-AS_0]^T)+tr((X-AS_0)(AH)^T)+tr(AH(AH)^T) - tr((X-AS_0)(X-AS_0)^T)=\n",
    "\\\\ tr(AH[X-AS_0]^T)+tr((X-AS_0)(AH)^T) + ||AH||_F^2 = \n",
    "\\\\ tr([X-AS_0]^TAH)+tr([X-AS_0]A^TH^T) + ||AH||_F^2 =\n",
    "\\\\ tr([X-AS_0]^TAH)+tr(H^T[X-AS_0]A^T) + ||AH||_F^2 =\n",
    "\\\\ tr([X-AS_0]^TAH)+tr\\bigg(\\bigg\\{(A^T[X-AS_0]^T)H\\bigg\\}^T\\bigg) + ||AH||_F^2 =\n",
    "\\\\ tr([X-AS_0]^TAH)+tr([X-AS_0]^TAH) + ||AH||_F^2 =\n",
    "\\\\ tr(2[X-AS_0]^TAH) + ||AH||_F^2 =\n",
    "\\\\ tr(\\{2A^T[X-AS_0]\\}^TH) + ||AH||_F^2\n",
    "$\n",
    "\n",
    "При $||AH||_F^2 \\rightarrow 0$:\n",
    "\n",
    "$tr(\\{2A^T[X-AS_0]\\}^TH) = tr(\\nabla_{S_0}f^TH)$\n",
    "\n",
    "Следовательно:\n",
    "\n",
    "$\\frac{dJ}{dS} = 2A^T(X-AS)$\n",
    "\n"
   ]
  },
  {
   "cell_type": "markdown",
   "metadata": {},
   "source": [
    "#### Second approach\n",
    "You can use *slightly different techniques* if they suits you. Take a look at this derivation:\n",
    "<img src=\"grad.png\">\n",
    "(excerpt from [Handbook of blind source separation, Jutten, page 517](https://books.google.ru/books?id=PTbj03bYH6kC&printsec=frontcover&dq=Handbook+of+Blind+Source+Separation&hl=en&sa=X&ved=0ahUKEwi-q_apiJDLAhULvXIKHVXJDWcQ6AEIHDAA#v=onepage&q=Handbook%20of%20Blind%20Source%20Separation&f=false), open for better picture)."
   ]
  },
  {
   "cell_type": "markdown",
   "metadata": {},
   "source": [
    "#### Third approach\n",
    "And finally we can use chain rule! \n",
    "let $ F = AS $ \n",
    "\n",
    "**Find**\n",
    "$$\n",
    "\\frac{dJ}{dF} =  \n",
    "$$ \n",
    "and \n",
    "$$\n",
    "\\frac{dF}{dS} =  \n",
    "$$ \n",
    "(the shape should be $ NM \\times RM )$.\n",
    "\n",
    "Now it is easy do get desired gradients:\n",
    "$$\n",
    "\\frac{dJ}{dS} =  \n",
    "$$ "
   ]
  },
  {
   "cell_type": "markdown",
   "metadata": {
    "collapsed": true,
    "jupyter": {
     "outputs_hidden": true
    }
   },
   "source": [
    "## 2. kNN questions\n",
    "Here come the questions from the assignment0_01. Please, refer to the assignment0_01 to get the context of the questions."
   ]
  },
  {
   "cell_type": "markdown",
   "metadata": {},
   "source": [
    "### Question 1\n",
    "\n",
    "Notice the structured patterns in the distance matrix, where some rows or columns are visible brighter. (Note that with the default color scheme black indicates low distances while white indicates high distances.)\n",
    "\n",
    "- What in the data is the cause behind the distinctly bright rows?\n",
    "- What causes the columns?\n",
    "\n",
    "*Your Answer:*\n",
    "- Отчетливо яркие строки, очевидно, показывают, что объект достаточно далёк от всех остальных, что означает, что тестовым данным, возможно, тяжело его описать. Можно либо сказать, что это какой-то маргинальный случай, либо что наших тренировочных данных не достаточно, чтобы описать объекты, либо же, что мы сидим в каком-то высокоразмерном пространстве, где все объекты, как правило, далеко расположены друг от друга\n",
    "\n",
    "- Возможно, причина заключается в том, что данные тренировочного датасета являются выбросами. Почему такое предположение? Если строка очень яркая, то значит расстояние от элемента в тренеровочном датасете достаточно большая для всех остальных объектов. То есть, скорее всего, он никак не повлияет на классификацию, т.к. расположен очень далеко"
   ]
  },
  {
   "cell_type": "markdown",
   "metadata": {},
   "source": [
    "### Question 2\n",
    "\n",
    "We can also use other distance metrics such as L1 distance.\n",
    "For pixel values $p_{ij}^{(k)}$ at location $(i,j)$ of some image $I_k$, \n",
    "\n",
    "the mean $\\mu$ across all pixels over all images is $$\\mu=\\frac{1}{nhw}\\sum_{k=1}^n\\sum_{i=1}^{h}\\sum_{j=1}^{w}p_{ij}^{(k)}$$\n",
    "And the pixel-wise mean $\\mu_{ij}$ across all images is \n",
    "$$\\mu_{ij}=\\frac{1}{n}\\sum_{k=1}^np_{ij}^{(k)}.$$\n",
    "The general standard deviation $\\sigma$ and pixel-wise standard deviation $\\sigma_{ij}$ is defined similarly.\n",
    "\n",
    "Which of the following preprocessing steps will not change the performance of a Nearest Neighbor classifier that uses L1 distance? Select all that apply.\n",
    "1. Subtracting the mean $\\mu$ ($\\tilde{p}_{ij}^{(k)}=p_{ij}^{(k)}-\\mu$.)\n",
    "2. Subtracting the per pixel mean $\\mu_{ij}$  ($\\tilde{p}_{ij}^{(k)}=p_{ij}^{(k)}-\\mu_{ij}$.)\n",
    "3. Subtracting the mean $\\mu$ and dividing by the standard deviation $\\sigma$.\n",
    "4. Subtracting the pixel-wise mean $\\mu_{ij}$ and dividing by the pixel-wise standard deviation $\\sigma_{ij}$.\n",
    "5. Rotating the coordinate axes of the data.\n",
    "\n",
    "*Your Answer:*\n",
    "1.\n",
    "2.\n",
    "3.\n",
    "4.\n",
    "\n",
    "*Your Explanation:*\n",
    "\n"
   ]
  },
  {
   "cell_type": "markdown",
   "metadata": {},
   "source": [
    "For proofs we are compare L1 distance between pictures $I_k, I_m, I_l$\n",
    "\n",
    "$$\n",
    "d(I_k, I_m) = ||p_{ij}^{(k)} - p_{ij}^{(m)}||_1 \\leq  ||p_{ij}^{(k)} - p_{ij}^{(l)}||_1 = d(I_k, I_l)\n",
    "$$\n",
    "1. Subtracting the mean\n",
    "\n",
    "$$d(I_k, I_m) = ||\\tilde{p}_{ij}^{(k)} - \\tilde{p}_{ij}^{(m)}||_1 = || p_{ij}^{(k)}  + \\mu  - p_{ij}^{(m)} -\\mu ||_1 = || p_{ij}^{(k)} + p_{ij}^{(m)} ||_1 $$\n",
    "\n",
    "$$d(I_k, I_l) = ||\\tilde{p}_{ij}^{(k)} - \\tilde{p}_{ij}^{(l)}||_1 = || p_{ij}^{(k)}  + \\mu  - p_{ij}^{(l)} -\\mu ||_1 = || p_{ij}^{(k)} + p_{ij}^{(l)} ||_1 $$\n",
    "\n",
    "Therefore:\n",
    "\n",
    "$$\n",
    "d(I_k, I_m) = ||p_{ij}^{(k)} - p_{ij}^{(m)}||_1 \\leq  ||p_{ij}^{(k)} - p_{ij}^{(l)}||_1 = d(I_k, I_l)\n",
    "$$\n",
    "\n",
    "2. Subtracting the per pixel mean $\\mu_{ij}$  ($\\tilde{p}_{ij}^{(k)}=p_{ij}^{(k)}-\\mu_{ij}$.)\n",
    "\n",
    "\n",
    "$$\n",
    "d(I_k, I_m) = \\sum_{i=1}^h \\sum_{j = 1}^w | \\tilde{p}_{ij}^{(k)} - \\tilde{p}_{ij}^{(m)} | = \n",
    "\\sum_{i=1}^h \\sum_{j = 1}^w |p_{ij}^{(k)} + \\mu_{ij} - p_{ij}^{(m)}-\\mu_{ij} | = \n",
    "\\sum_{i=1}^h \\sum_{j = 1}^w |p_{ij}^{(k)} - p_{ij}^{(m)}|\n",
    "$$\n",
    "\n",
    "$$\n",
    "d(I_k, I_l) = \\sum_{i=1}^h \\sum_{j = 1}^w | \\tilde{p}_{ij}^{(k)} - \\tilde{p}_{ij}^{(l)} | = \n",
    "\\sum_{i=1}^h \\sum_{j = 1}^w |p_{ij}^{(k)} + \\mu_{ij} - p_{ij}^{(l)}-\\mu_{ij} | = \n",
    "\\sum_{i=1}^h \\sum_{j = 1}^w |p_{ij}^{(k)} - p_{ij}^{(l)}|\n",
    "$$\n",
    "\n",
    "$$\n",
    "d(I_k, I_m) \\leq d(I_k, I_l)\n",
    "$$\n",
    "\n",
    "\n",
    "3. Subtracting the mean $\\mu$ and dividing by the standard deviation $\\sigma$.\n",
    "\n",
    "$$\n",
    "d(I_k, I_m) = \\sum_{i=1}^h \\sum_{j = 1}^w | \\tilde{p}_{ij}^{(k)} - \\tilde{p}_{ij}^{(m)} | = \n",
    "\\sum_{i=1}^h \\sum_{j = 1}^w |\\frac{p_{ij}^{(k)}}{\\sigma} + \\frac{\\mu}{\\sigma} - \\frac{p_{ij}^{(m)}}{\\sigma}-\\frac{\\mu}{\\sigma} | = \n",
    "\\frac{1}{\\sigma}\\sum_{i=1}^h \\sum_{j = 1}^w |p_{ij}^{(k)} - p_{ij}^{(m)}|\n",
    "$$\n",
    "\n",
    "$$\n",
    "d(I_k, I_l) = \\sum_{i=1}^h \\sum_{j = 1}^w | \\tilde{p}_{ij}^{(k)} - \\tilde{p}_{ij}^{(l)} | = \n",
    "\\sum_{i=1}^h \\sum_{j = 1}^w |\\frac{p_{ij}^{(k)}}{\\sigma} + \\frac{\\mu}{\\sigma} - \\frac{p_{ij}^{(l)}}{\\sigma}-\\frac{\\mu}{\\sigma} | = \n",
    "\\frac{1}{\\sigma}\\sum_{i=1}^h \\sum_{j = 1}^w |p_{ij}^{(k)} - p_{ij}^{(l)}|\n",
    "$$\n",
    "\n",
    "$$\n",
    "\\frac{1}{\\sigma}d(I_k, I_m) \\leq \\frac{1}{\\sigma} d(I_k, I_l)\n",
    "$$\n",
    "\n",
    "4. Subtracting the pixel-wise mean $\\mu_{ij}$ and dividing by the pixel-wise standard deviation $\\sigma_{ij}$.\n",
    "\n",
    "$$\n",
    "d(I_k, I_m) = \\sum_{i=1}^h \\sum_{j = 1}^w | \\tilde{p}_{ij}^{(k)} - \\tilde{p}_{ij}^{(m)} | = \n",
    "\\sum_{i=1}^h \\sum_{j = 1}^w |\\frac{p_{ij}^{(k)}}{\\sigma_{i,j}} + \\frac{\\mu}{\\sigma_{i,j}} - \\frac{p_{ij}^{(m)}}{\\sigma_{i,j}}-\\frac{\\mu}{\\sigma_{i,j}} | = \n",
    "\\sum_{i=1}^h \\sum_{j = 1}^w \\frac{1}{\\sigma_{i,j}}|p_{ij}^{(k)} - p_{ij}^{(m)}|\n",
    "$$\n",
    "\n",
    "$$\n",
    "d(I_k, I_l) = \\sum_{i=1}^h \\sum_{j = 1}^w | \\tilde{p}_{ij}^{(k)} - \\tilde{p}_{ij}^{(l)} | = \n",
    "\\sum_{i=1}^h \\sum_{j = 1}^w |\\frac{p_{ij}^{(k)}}{\\sigma_{i,j}} + \\frac{\\mu_{i,j}}{\\sigma_{i,j}} - \\frac{p_{ij}^{(l)}}{\\sigma_{i,j}}-\\frac{\\mu_{i,j}}{\\sigma_{i,j}} | = \n",
    "\\sum_{i=1}^h \\sum_{j = 1}^w \\frac{1}{\\sigma_{i,j}}|p_{ij}^{(k)} - p_{ij}^{(l)}|\n",
    "$$\n",
    "\n",
    "Так как если: \n",
    "\n",
    "$$|p_{ij}^{(k)} - p_{ij}^{(m)}| < |p_{ij}^{(k)} - p_{ij}^{(l)}|$$\n",
    "\n",
    "То неравенство сохраняется:\n",
    "\n",
    "$$\\frac{1}{\\sigma_{i,j}}|p_{ij}^{(k)} - p_{ij}^{(m)}| < \\frac{1}{\\sigma_{i,j}}|p_{ij}^{(k)} - p_{ij}^{(l)}|$$\n",
    "\n",
    "\n",
    "А значит:\n",
    "\n",
    "$$\\overline{d}(I_k, I_m) \\leq \\overline{d}(I_k, I_l) $$\n",
    "\n",
    "\n",
    "5.\n",
    "Давайте рассмотрим более простой пример. Пусть у нас будет примитивное изображение, которое описывается лишь парой точек $(x, y)$, тогда рассмотрим расстояние между изображением $I_1 = (x_1, y_1)^T$, $I_2 = (x_2, y_2)^T$, $I_3 = (x_3, y_3)^T$. Предположи, что $d(I_1, I_2) < d(I_2, I_3)$. Давайте при,\n",
    "\n",
    "$$\n",
    "A =\n",
    "\\begin{pmatrix}\n",
    "cos(\\frac{\\pi}{4}) & sin(\\frac{\\pi}{4}) \\\\\n",
    "-sin(\\frac{\\pi}{4}) & cos(\\frac{\\pi}{4})\n",
    "\\end{pmatrix}\n",
    "=\n",
    "\\begin{pmatrix}\n",
    "\\frac{\\sqrt{2}}{2} & \\frac{\\sqrt{2}}{2} \\\\\n",
    "-\\frac{\\sqrt{2}}{2} & \\frac{\\sqrt{2}}{2}\n",
    "\\end{pmatrix}\n",
    "=\n",
    "\\frac{\\sqrt{2}}{2}\n",
    "\\begin{pmatrix}\n",
    " 1& 1 \\\\\n",
    "-1& 1\n",
    "\\end{pmatrix}\n",
    "$$\n",
    "\n",
    "Получим теперь изображения $I_1^{'}=AI_1$, $I_2^{'}=AI_2$, $I_3^{'}=AI_3$:\n",
    "$$\n",
    "I_1^{'}\n",
    "=\n",
    "\\frac{\\sqrt{2}}{2}\n",
    "\\begin{pmatrix}\n",
    " 1& 1 \\\\\n",
    "-1& 1\n",
    "\\end{pmatrix}\n",
    "\\begin{pmatrix}\n",
    " x_1 \\\\\n",
    " y_1\n",
    "\\end{pmatrix}\n",
    "=\n",
    "\\frac{\\sqrt{2}}{2}\n",
    "\\begin{pmatrix}\n",
    " x_1 + y_1\\\\\n",
    " -x_1 + y_1\n",
    "\\end{pmatrix}\n",
    "\\\\\n",
    "I_2^{'}\n",
    "=\n",
    "\\frac{\\sqrt{2}}{2}\n",
    "\\begin{pmatrix}\n",
    " 1& 1 \\\\\n",
    "-1& 1\n",
    "\\end{pmatrix}\n",
    "\\begin{pmatrix}\n",
    " x_2 \\\\\n",
    " y_2\n",
    "\\end{pmatrix}\n",
    "=\n",
    "\\frac{\\sqrt{2}}{2}\n",
    "\\begin{pmatrix}\n",
    " x_2 + y_2  \\\\\n",
    " -x_2 + y_2\n",
    "\\end{pmatrix}\n",
    "\\\\\n",
    "I_3^{'}\n",
    "=\n",
    "\\frac{\\sqrt{2}}{2}\n",
    "\\begin{pmatrix}\n",
    " 1& 1 \\\\\n",
    "-1& 1\n",
    "\\end{pmatrix}\n",
    "\\begin{pmatrix}\n",
    " x_3 \\\\\n",
    " y_3\n",
    "\\end{pmatrix}\n",
    "=\n",
    "\\frac{\\sqrt{2}}{2}\n",
    "\\begin{pmatrix}\n",
    " x_3 + y_3  \\\\\n",
    " -x_3 + y_3\n",
    "\\end{pmatrix}\n",
    "$$\n",
    "\n",
    "Посмотрим теперь, как выглядят расстояния $d(I_1, I_2), d(I_2, I_3), d(I_1^{'}, I_2^{'}), d(I_2^{'}, I_3^{'})$:\n",
    "\n",
    "$$\n",
    "d(I_1, I_2) = |x_1 - x_1| + |y_1 - y_2| \n",
    "\\\\\n",
    "d(I_2, I_3) = |x_2 - x_3| + |y_2 - y_3|\n",
    "\\\\\n",
    "d(I_1^{'}, I_2^{'}) = |x_1 + y_1 - x_2 - y_2| + |x_1  + y_1 + x_2 - y_2|\n",
    "\\\\\n",
    "d(I_2^{'}, I_3^{'}) = |x_2 + y_2 - x_3 - y_3| + |x_2  + y_2 + x_3 - y_3|\n",
    "$$\n",
    "\n",
    "Пусть теперь $I_1=(1, 0), I_2=(1, 1), I_3=(1, 3)$, тогда:\n",
    "\n",
    "$$\n",
    "d(I_1, I_2) = |1 - 1| + |0 - 1| = 1\n",
    "\\\\\n",
    "d(I_2, I_3) = |1 - 1| + |0 - 3| = 3 \n",
    "\\\\\n",
    "d(I_1^{'}, I_2^{'}) = \\frac{\\sqrt{2}}{2}(| 1 + 0 - 1 - 1| + |1 + 0  + 1 -  1|)= \\frac{\\sqrt{2}}{2} 2  = \\sqrt{2} \n",
    "\\\\\n",
    "d(I_2^{'}, I_3^{'}) = \\frac{\\sqrt{2}}{2}(|1 + 1 - 1 - 3| + |1 + 1 + 1 - 3|) = \\frac{\\sqrt{2}}{2} 2 = \\sqrt{2}\n",
    "$$\n",
    "\n",
    "И как мы видим,  до поворота у нас имеется следующее отношение $d(I_1, I_2) = 1 \\leq 3 = d(I_2, I_3)$. Но после поворота имеем ситуацию $d(I_1^{'}, I_2^{'})=\\sqrt{2}=d(I_2^{'}, I_3^{'})$. Т.к. изображение может быть произвольных размеров, то данный частный случай показывает, что поворот может менять $L1$ метрику. \n",
    "\n",
    "\n"
   ]
  },
  {
   "cell_type": "markdown",
   "metadata": {},
   "source": [
    "## Question 3\n",
    "\n",
    "Which of the following statements about $k$-Nearest Neighbor ($k$-NN) are true in a classification setting, and for all $k$? Select all that apply.\n",
    "1. The decision boundary (hyperplane between classes in feature space) of the k-NN classifier is linear.\n",
    "2. The training error of a 1-NN will always be lower than that of 5-NN.\n",
    "3. The test error of a 1-NN will always be lower than that of a 5-NN.\n",
    "4. The time needed to classify a test example with the k-NN classifier grows with the size of the training set.\n",
    "5. None of the above.\n",
    "\n",
    "*Your Answer:*\n",
    "2.\n",
    "4.\n",
    "\n",
    "*Your Explanation:*\n",
    "1. Нет. Как пример можно привести данные, где элементы первого класса будут образовывать кольцо, а элементы второго класса будут  образовывать окружность внутри  этого кольца.\n",
    "2. Т.к. при  1-NN будет учитываться лишь сама точка, которая классифицируется, то training  error = 0. Но если будет учитываться  больше чем один класс, то следовательно если среди 5 соседей 4 будут из другого класса, то training error >= 0.\n",
    "3.  Нет, не обязательно. Тут нет такой же ситуации, как во втором пункте, потому training error = 0, и вполне может быть ситуация, когда 1-й сосед будет ложного класса, когда 4-е следующие будут правльного.\n",
    "4. Да, поскольку если к training set добавить m элементов, то для элемента, который нужно классифицировать, нужно будет вычислиить еще m расстояний.\n",
    "\n",
    "\n"
   ]
  },
  {
   "cell_type": "code",
   "execution_count": null,
   "metadata": {},
   "outputs": [],
   "source": []
  }
 ],
 "metadata": {
  "kernelspec": {
   "display_name": "Python 3 (ipykernel)",
   "language": "python",
   "name": "python3"
  },
  "language_info": {
   "codemirror_mode": {
    "name": "ipython",
    "version": 3
   },
   "file_extension": ".py",
   "mimetype": "text/x-python",
   "name": "python",
   "nbconvert_exporter": "python",
   "pygments_lexer": "ipython3",
   "version": "3.9.7"
  }
 },
 "nbformat": 4,
 "nbformat_minor": 4
}
